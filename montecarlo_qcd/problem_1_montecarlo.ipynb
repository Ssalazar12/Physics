{
 "cells": [
  {
   "cell_type": "code",
   "execution_count": 4,
   "metadata": {},
   "outputs": [],
   "source": [
    "import numpy as np\n",
    "import matplotlib.pyplot as plt\n",
    "from scipy.stats import uniform\n",
    "import seaborn as sns\n"
   ]
  },
  {
   "cell_type": "code",
   "execution_count": 9,
   "metadata": {},
   "outputs": [],
   "source": [
    "#INITIALIZE CONSTANTS\n",
    "\n",
    "# qed coupling\n",
    "alpha = 1/129.0\n",
    "# Z boson mass\n",
    "Mz = 91.2\n",
    "# Z decay width\n",
    "Gammaz = 2.5\n",
    "# qcd colors\n",
    "Nc =3\n",
    "# qcd light quark flavors\n",
    "Nq = 5\n",
    "# electric charge of electron\n",
    "Qe = -1 \n",
    "# electric charge of light up type quarks\n",
    "Qu = 2.0/3.0\n",
    "# electric charge of down quarks\n",
    "Qd = -1.0/3.0\n",
    "# weinberg angle function\n",
    "sin2w = 0.223\n",
    "# prefactor for chi functions\n",
    "k = 1/(4*sin2w*(1-sin2w))\n",
    "\n",
    "# weak isospin for down type and electros\n",
    "T3e = -1.0/2.0\n",
    "# weak isospin for up type (light)\n",
    "T3u = 1.0/2.0\n",
    "# conversion factor to picobars\n",
    "F_conv = 3.89379656 * 10**8\n",
    "\n",
    "# electron values\n",
    "Ae = Af(T3e)\n",
    "Ve = Vf(T3e, Qe)\n",
    "\n",
    "# each step of the montecarlo has to choose one of the flavors randomly\n",
    "# order in the arrays is important\n",
    "quark_charges = np.asarray([Qu,Qd])\n",
    "quark_isospin = np.asarray([T3u, T3e])\n",
    "\n"
   ]
  },
  {
   "cell_type": "code",
   "execution_count": 13,
   "metadata": {},
   "outputs": [],
   "source": [
    "def Vf(Tf3, Qf):\n",
    "    # calculates vector coupling for the f quark\n",
    "    # args-> Tf3: scalar, weak isosipin of f quark.\n",
    "    #        Qf: scalar, charge of f quark\n",
    "    # returns vf: scalar, vector copuling\n",
    "    \n",
    "    return Tf3 - 2*Qf*sin2w\n",
    "\n",
    "def Af(Tf3):\n",
    "    # calculates axial coupling for the f quark\n",
    "    # args-> Tf3: scalar, weak isosipin of f quark.\n",
    "    # returns af: scalar, vector copuling\n",
    "    \n",
    "    return Tf3\n",
    "\n",
    "def Chi1(s):\n",
    "    return k*s*(s-Mz**2)/( (s-Mz**2)**2 + Gammaz**2*Mz**2)\n",
    "    \n",
    "def Chi2(s):\n",
    "    return k*(s**2)/( (s-Mz**2)**2 + Gammaz**2*Mz**2)\n",
    "\n",
    "def init_montecarlo(N_steps, s_constant=True):\n",
    "    # initializes the values for the montecarlo integral\n",
    "    \n",
    "    # randomly generate the indices\n",
    "    flavor_indices = np.random.randint(0,2, size=N_steps)\n",
    "\n",
    "    # calculate the values for each step\n",
    "    charge_sequence = np.asarray([quark_charges[x] for x in flavor_indices])\n",
    "    isospin_sequence = np.asarray([quark_isospin[x] for x in flavor_indices])\n",
    "    Aq_array = Af(isospin_sequence)\n",
    "    Vq_array = Vf(isospin_sequence, charge_sequence)\n",
    "\n",
    "    # draw random numbers for the integration\n",
    "    if s_constant==True:\n",
    "        s = Mz**2\n",
    "        fs = 1\n",
    "        \n",
    "    costh = np.random.uniform(low=-1, high=1, size=(N_steps,))\n",
    "    phi = np.random.uniform(low=0, high=2*np.pi, size=(N_steps,))\n",
    "\n",
    "    return s, fs, costh, phi, Aq_array, Vq_array, charge_sequence\n",
    "\n",
    "\n",
    "def diff_cross_section(s, costh, fs, Qq ,Aq, Vq):\n",
    "    # evaluates the differential cross section at the given points\n",
    "    # args-> s: array/scalar, random numbers for the s varialbe\n",
    "    #        costh: array/scalar, random numbers following a cos distribution\n",
    "    #        phi:   array/sacalar, random numbers for the angle phi\n",
    "    # returns-> array: the differential cross section evaluated on the given points\n",
    "    \n",
    "    return fs*(1/(s*64*np.pi**2)) * ( (4*np.pi*alpha)**2*Nc*( (1+costh**2)*(Qe**2* Qq**2 \\\n",
    "                   + 2*Qe*Qq*Ve*Vq*Chi1(s) + (Ae**2+Ve**2)*(Aq**2 + Vq**2)*Chi2(s))\\\n",
    "                   + costh*( 4*Qe*Qq*Ae*Aq*Chi1(s) + 8*Ae*Ve*Aq*Vq*Chi2(s) ) ) )\n",
    "\n",
    "                                   "
   ]
  },
  {
   "cell_type": "markdown",
   "metadata": {},
   "source": [
    "## Problem 1: Fixed s"
   ]
  },
  {
   "cell_type": "code",
   "execution_count": 38,
   "metadata": {},
   "outputs": [],
   "source": [
    "\n",
    "# integration values\n",
    "N_montecarlo = 100000\n",
    "benchmark_value = 42_250"
   ]
  },
  {
   "cell_type": "code",
   "execution_count": 39,
   "metadata": {},
   "outputs": [],
   "source": [
    "# initialize the values\n",
    "s, fs, costh, phi, Aq_array, Vq_array, charge_sequence = init_montecarlo(N_montecarlo)\n"
   ]
  },
  {
   "cell_type": "code",
   "execution_count": 40,
   "metadata": {},
   "outputs": [
    {
     "data": {
      "text/plain": [
       "<matplotlib.collections.PathCollection at 0x7fd847b0bed0>"
      ]
     },
     "execution_count": 40,
     "metadata": {},
     "output_type": "execute_result"
    },
    {
     "data": {
      "image/png": "[encoded data removed]",
      "text/plain": [
       "<Figure size 432x288 with 1 Axes>"
      ]
     },
     "metadata": {
      "needs_background": "light"
     },
     "output_type": "display_data"
    }
   ],
   "source": [
    "# calculate the cross section at several points\n",
    "sigma_eval = diff_cross_section(s, costh, fs, \n",
    "                   charge_sequence ,Aq_array, Vq_array)\n",
    "\n",
    "plt.scatter(costh,sigma_eval)"
   ]
  },
  {
   "cell_type": "markdown",
   "metadata": {},
   "source": [
    "### Hit or miss"
   ]
  },
  {
   "cell_type": "code",
   "execution_count": 41,
   "metadata": {},
   "outputs": [
    {
     "name": "stdout",
     "output_type": "stream",
     "text": [
      "value =  28497.350726136276\n",
      "true =  42250\n",
      "error =  13752.649273863724\n"
     ]
    },
    {
     "data": {
      "text/plain": [
       "1.276363311899322e-06"
      ]
     },
     "execution_count": 41,
     "metadata": {},
     "output_type": "execute_result"
    }
   ],
   "source": [
    "# calculate the cross section at several points\n",
    "sigma_eval = diff_cross_section(s, costh, fs, \n",
    "                   charge_sequence ,Aq_array, Vq_array)\n",
    "\n",
    "y_max = 10**(-5)\n",
    "volume_interval = 2*y_max\n",
    "phi_integral = 2*np.pi\n",
    "\n",
    "y = y_max*np.random.rand(N_montecarlo)\n",
    "accepted_points = y<=sigma_eval\n",
    "\n",
    "# # perform the integration\n",
    "\n",
    "sigma_res = phi_integral*Nq*volume_interval*(np.sum(accepted_points)/float(N_montecarlo))*F_conv\n",
    "#sigma_res = phi_integral*Nq*volume_interval*(np.sum(sigma_eval[accepted_points])/np.sum(accepted_points))*F_conv\n",
    "\n",
    "print('value = ', sigma_res)\n",
    "print('true = ', benchmark_value)\n",
    "print('error = ', np.abs(sigma_res-benchmark_value))\n",
    "np.sum(sigma_eval[accepted_points])/np.sum(accepted_points)"
   ]
  },
  {
   "cell_type": "markdown",
   "metadata": {},
   "source": [
    "### Normal montecarlo "
   ]
  },
  {
   "cell_type": "code",
   "execution_count": 43,
   "metadata": {},
   "outputs": [
    {
     "name": "stdout",
     "output_type": "stream",
     "text": [
      "value =  28576.14901516183 with uncertainty =  54.65852158681944\n",
      "true =  42250\n",
      "error =  13673.85098483817\n"
     ]
    }
   ],
   "source": [
    "# calculate the cross section at several points\n",
    "sigma_eval = diff_cross_section(s, costh, fs, \n",
    "                   charge_sequence ,Aq_array, Vq_array)\n",
    "\n",
    "volume_interval = 2\n",
    "phi_integral = 2*np.pi\n",
    "sigma_res = Nq*phi_integral*volume_interval*(np.mean(sigma_eval))*F_conv\n",
    "montecarlo_uncertainty = 2 * np.sqrt( (np.mean(sigma_eval**2) - np.mean(sigma_eval)**2) \n",
    "                                     /float(N_montecarlo))*F_conv*Nq*phi_integral*volume_interval\n",
    "\n",
    "print('value = ', sigma_res, 'with uncertainty = ', montecarlo_uncertainty)\n",
    "print('true = ', benchmark_value)\n",
    "print('error = ', np.abs(sigma_res-benchmark_value))\n"
   ]
  },
  {
   "cell_type": "code",
   "execution_count": null,
   "metadata": {},
   "outputs": [],
   "source": []
  },
  {
   "cell_type": "code",
   "execution_count": 30,
   "metadata": {},
   "outputs": [],
   "source": [
    "N_list = np.linspace(10, 10**6,30)\n",
    "\n",
    "sigma_list = []\n",
    "error_list = []\n",
    "volume_interval = np.pi*2*np.pi\n",
    "\n",
    "for n in N_list:\n",
    "    # initialize the values\n",
    "    s, fs, costh, phi, Aq_array, Vq_array, charge_sequence = init_montecarlo(n)\n",
    "    # calculate the cross section at several points\n",
    "    sigma_eval = diff_cross_section(s, costh, phi, fs, \n",
    "                   charge_sequence ,Aq_array, Vq_array)\n",
    "    y_max = 10**(-3)\n",
    "    volume_interval = 2*y_max\n",
    "\n",
    "    y = y_max*np.random.rand(N_montecarlo)\n",
    "    accepted_points = y<=sigma_eval\n",
    "    \n",
    "    # perform the integration\n",
    "    sigma_res = 2*np.pi*Nq*volume_interval*(np.sum(accepted_points)/N_montecarlo)*F_conv\n",
    "    error = np.abs(sigma_res-benchmark_value)\n",
    "    \n",
    "    sigma_list.append(sigma_res)\n",
    "    error_list.append(error)\n",
    "    "
   ]
  },
  {
   "cell_type": "code",
   "execution_count": 31,
   "metadata": {},
   "outputs": [
    {
     "data": {
      "text/plain": [
       "[<matplotlib.lines.Line2D at 0x7fe9a797a710>]"
      ]
     },
     "execution_count": 31,
     "metadata": {},
     "output_type": "execute_result"
    },
    {
     "data": {
      "image/png": "[encoded data removed]",
      "text/plain": [
       "<Figure size 432x288 with 1 Axes>"
      ]
     },
     "metadata": {
      "needs_background": "light"
     },
     "output_type": "display_data"
    }
   ],
   "source": [
    "plt.loglog(N_list, error_list)"
   ]
  },
  {
   "cell_type": "code",
   "execution_count": 32,
   "metadata": {},
   "outputs": [
    {
     "data": {
      "text/plain": [
       "[15338.010131567738,\n",
       " 17784.55466506158,\n",
       " 15338.010131567738,\n",
       " 13625.428958122051,\n",
       " 14114.737864820818,\n",
       " 12157.502238025747,\n",
       " 12402.15669137513,\n",
       " 11912.84778467636,\n",
       " 11912.84778467636,\n",
       " 13625.428958122051,\n",
       " 12402.15669137513,\n",
       " 11912.84778467636,\n",
       " 14359.392318170205,\n",
       " 16805.936851664046,\n",
       " 10689.57551792944,\n",
       " 8487.685437784981,\n",
       " 10934.229971278823,\n",
       " 16071.973491615892,\n",
       " 13380.774504772664,\n",
       " 9221.648797833135,\n",
       " 13136.12005142328,\n",
       " 11178.884424628206,\n",
       " 10689.57551792944,\n",
       " 11912.84778467636,\n",
       " 11178.884424628206,\n",
       " 12646.811144724514,\n",
       " 19986.44474520604,\n",
       " 15093.355678218351,\n",
       " 16805.936851664046,\n",
       " 13136.12005142328]"
      ]
     },
     "execution_count": 32,
     "metadata": {},
     "output_type": "execute_result"
    }
   ],
   "source": [
    "error_list"
   ]
  },
  {
   "cell_type": "code",
   "execution_count": 33,
   "metadata": {},
   "outputs": [
    {
     "data": {
      "text/plain": [
       "[<matplotlib.lines.Line2D at 0x7fe9a7d32d50>]"
      ]
     },
     "execution_count": 33,
     "metadata": {},
     "output_type": "execute_result"
    },
    {
     "data": {
      "image/png": "[encoded data removed]",
      "text/plain": [
       "<Figure size 432x288 with 1 Axes>"
      ]
     },
     "metadata": {
      "needs_background": "light"
     },
     "output_type": "display_data"
    }
   ],
   "source": [
    "plt.loglog(N_list, sigma_list)"
   ]
  },
  {
   "cell_type": "code",
   "execution_count": 34,
   "metadata": {},
   "outputs": [
    {
     "ename": "NameError",
     "evalue": "name 'ymax' is not defined",
     "output_type": "error",
     "traceback": [
      "\u001b[0;31m---------------------------------------------------------------------------\u001b[0m",
      "\u001b[0;31mNameError\u001b[0m                                 Traceback (most recent call last)",
      "\u001b[0;32m<ipython-input-34-e3562a4c3ade>\u001b[0m in \u001b[0;36m<module>\u001b[0;34m\u001b[0m\n\u001b[1;32m      8\u001b[0m \u001b[0;31m# hit or miss method\u001b[0m\u001b[0;34m\u001b[0m\u001b[0;34m\u001b[0m\u001b[0;34m\u001b[0m\u001b[0m\n\u001b[1;32m      9\u001b[0m \u001b[0my_max\u001b[0m \u001b[0;34m=\u001b[0m \u001b[0;36m1\u001b[0m\u001b[0;34m*\u001b[0m\u001b[0mnp\u001b[0m\u001b[0;34m.\u001b[0m\u001b[0mrandom\u001b[0m\u001b[0;34m.\u001b[0m\u001b[0mrand\u001b[0m\u001b[0;34m(\u001b[0m\u001b[0;34m)\u001b[0m\u001b[0;34m\u001b[0m\u001b[0;34m\u001b[0m\u001b[0m\n\u001b[0;32m---> 10\u001b[0;31m \u001b[0maccepted_points\u001b[0m \u001b[0;34m=\u001b[0m \u001b[0mevaluated\u001b[0m \u001b[0;34m<=\u001b[0m \u001b[0mymax\u001b[0m\u001b[0;34m\u001b[0m\u001b[0;34m\u001b[0m\u001b[0m\n\u001b[0m\u001b[1;32m     11\u001b[0m \u001b[0;34m\u001b[0m\u001b[0m\n\u001b[1;32m     12\u001b[0m \u001b[0mres\u001b[0m \u001b[0;34m=\u001b[0m \u001b[0mvolume\u001b[0m\u001b[0;34m*\u001b[0m\u001b[0mnp\u001b[0m\u001b[0;34m.\u001b[0m\u001b[0mmean\u001b[0m\u001b[0;34m(\u001b[0m\u001b[0mevaluated\u001b[0m\u001b[0;34m)\u001b[0m\u001b[0;34m\u001b[0m\u001b[0;34m\u001b[0m\u001b[0m\n",
      "\u001b[0;31mNameError\u001b[0m: name 'ymax' is not defined"
     ]
    }
   ],
   "source": [
    "n=20000000\n",
    "true_val = 2\n",
    "\n",
    "volume = np.pi\n",
    "random_theta = np.random.uniform(low=0, high=np.pi, size=(n,))\n",
    "evaluated = np.sin(random_theta)\n",
    "\n",
    "# hit or miss method\n",
    "y_max = 1*np.random.rand()\n",
    "accepted_points = evaluated <= ymax\n",
    "\n",
    "res = volume*np.mean(evaluated)\n",
    "\n",
    "print(res)\n",
    "print(true_val)\n",
    "np.abs(res - true_val)/true_val\n"
   ]
  },
  {
   "cell_type": "code",
   "execution_count": null,
   "metadata": {},
   "outputs": [],
   "source": [
    "n=10**6\n",
    "\n",
    "true_val = 0\n",
    "evaluated = np.random.uniform(low=-1, high=1, size=(n,))\n",
    "volume = 2\n",
    "\n",
    "# hit or miss method\n",
    "y_max = 1*np.random.rand()\n",
    "accepted_points = evaluated <= ymax\n",
    "\n",
    "res = 1*volume*np.sum(accepted_points)/n\n",
    "\n",
    "print(res)\n",
    "print(true_val)\n",
    "np.abs(res - true_val)\n"
   ]
  },
  {
   "cell_type": "code",
   "execution_count": null,
   "metadata": {},
   "outputs": [],
   "source": [
    "np.sum(accepted_points)/n"
   ]
  },
  {
   "cell_type": "code",
   "execution_count": null,
   "metadata": {},
   "outputs": [],
   "source": [
    "np.power([3,2],2)\n",
    "np.shape(x_list)"
   ]
  },
  {
   "cell_type": "code",
   "execution_count": null,
   "metadata": {},
   "outputs": [],
   "source": [
    "y = func1(x_list)\n",
    "y_mean = y[inside_domain].sum()/len(y[inside_domain])\n",
    "res = y_mean * domain\n",
    "\n",
    "res"
   ]
  },
  {
   "cell_type": "code",
   "execution_count": null,
   "metadata": {},
   "outputs": [],
   "source": []
  }
 ],
 "metadata": {
  "kernelspec": {
   "display_name": "Python 3",
   "language": "python",
   "name": "python3"
  },
  "language_info": {
   "codemirror_mode": {
    "name": "ipython",
    "version": 3
   },
   "file_extension": ".py",
   "mimetype": "text/x-python",
   "name": "python",
   "nbconvert_exporter": "python",
   "pygments_lexer": "ipython3",
   "version": "3.7.6"
  }
 },
 "nbformat": 4,
 "nbformat_minor": 4
}
