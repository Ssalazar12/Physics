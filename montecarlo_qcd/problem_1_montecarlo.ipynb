{
 "cells": [
  {
   "cell_type": "code",
   "execution_count": 1,
   "metadata": {},
   "outputs": [],
   "source": [
    "import numpy as np\n",
    "import matplotlib.pyplot as plt\n",
    "from scipy.stats import uniform\n",
    "import seaborn as sns\n",
    "import matplotlib\n",
    "import vegas\n",
    "import functools\n",
    "import itertools as it\n",
    "\n",
    "from utils import alphas, particle, vector, shower, analysis, yoda\n",
    "\n",
    "matplotlib.rcParams.update({'font.size': 17})\n",
    "sns.set_style(\"white\")\n"
   ]
  },
  {
   "cell_type": "markdown",
   "metadata": {},
   "source": [
    "# Topics To Study for The Exam:\n",
    "\n",
    "1. Veto Algorithm.\n",
    "2. Inner workings of the SHERPA.\n",
    "3. Calculation of the QCD Cross section and basics of the theory.\n",
    "4. Infra Red Singularitites, Scale dependence and Asymptotic Freedom.\n",
    "5. Why are Jet Algorithms Usefull.\n",
    "6. Analysis Class.\n",
    "7. Factorization\n",
    "8. Why montecarlo works so well?\n",
    "9. Is this related to pulling Quarks appart?\n",
    "10. cross section graphs check if i understand the peak structure\n"
   ]
  },
  {
   "cell_type": "markdown",
   "metadata": {},
   "source": [
    "# To do:\n",
    "\n",
    "- fix the hisrogram\n"
   ]
  },
  {
   "cell_type": "code",
   "execution_count": 2,
   "metadata": {},
   "outputs": [],
   "source": [
    "def Vf(Tf3, Qf):\n",
    "    # calculates vector coupling for the f quark\n",
    "    # args-> Tf3: scalar, weak isosipin of f quark.\n",
    "    #        Qf: scalar, charge of f quark\n",
    "    # returns vf: scalar, vector copuling\n",
    "    \n",
    "    return Tf3 - 2*Qf*sin2w\n",
    "\n",
    "def Af(Tf3):\n",
    "    # calculates axial coupling for the f quark\n",
    "    # args-> Tf3: scalar, weak isosipin of f quark.\n",
    "    # returns af: scalar, vector copuling\n",
    "    \n",
    "    return Tf3\n",
    "\n",
    "def Chi1(s_var):\n",
    "    # calculates chi1 as a function of s\n",
    "    # args -> s_var: array or scalar, for the s variable\n",
    "    return k*s_var*(s_var-Mz**2)/( (s_var-Mz**2)**2 + Gammaz**2*Mz**2 )\n",
    "    \n",
    "def Chi2(s_var):\n",
    "    # calculates chi1 as a function of s\n",
    "    # args -> s_var: array or scalar, for the s variable\n",
    "    return (k**2)*(s_var**2)/( (s_var-Mz**2)**2 + Gammaz**2*Mz**2)\n",
    "\n",
    "def initialize_quark_sequence(N_steps):\n",
    "    # cdraw random quark flavors for each montecarlo step and calculate their quantities\n",
    "    \n",
    "    # randomly generate the indices\n",
    "    flavor_indices = np.random.randint(0,Nq, size=N_steps)\n",
    "\n",
    "    # calculate the values for each step\n",
    "    charge_sequence = np.asarray([quark_charges[x] for x in flavor_indices])\n",
    "    isospin_sequence = np.asarray([quark_isospin[x] for x in flavor_indices])\n",
    "    Aq_array = Af(isospin_sequence)\n",
    "    Vq_array = Vf(isospin_sequence, charge_sequence)\n",
    "    \n",
    "    return charge_sequence, Aq_array, Vq_array\n",
    "    \n",
    "\n",
    "def init_montecarlo(N_steps,s0, s_constant=True):\n",
    "    # generates the events for the montecarlo\n",
    "    # args -> N_steps: int, number of steps in the montecarlo\n",
    "    #        s0: float, value of s for the fixed case\n",
    "    #        s_constant: Boolean, indicates whether to use uniform or fixed s\n",
    "    \n",
    "    # randomly generate the indices  \n",
    "    charge_sequence, Aq_array, Vq_array = initialize_quark_sequence(N_steps)\n",
    "\n",
    "    # draw random numbers for the integration\n",
    "    if s_constant==True:\n",
    "        s_var = s0\n",
    "        fs = 1.0\n",
    "    else:\n",
    "        # choose s as an uniformly distributed variable\n",
    "        s_upper = (Mz + 3*Gammaz)**2 \n",
    "        s_lower = (Mz - 3*Gammaz)**2 \n",
    "        s_var = np.random.uniform(low=s_lower, high=s_upper, size=(N_steps))\n",
    "        fs = 1.0/(s_upper-s_lower)\n",
    "        \n",
    "    costh = np.random.uniform(low=-1, high=1, size=(N_steps))\n",
    "    phi = np.random.uniform(low=0, high=2*np.pi, size=(N_steps))\n",
    "\n",
    "    return s_var, fs, costh, phi, Aq_array, Vq_array, charge_sequence\n",
    "\n",
    "\n",
    "def diff_cross_section(s_var, costh, fs, Qq ,Aq, Vq):\n",
    "    # evaluates the differential cross section at the given points\n",
    "    # args-> s: array/scalar, random numbers for the s varialbe\n",
    "    #        costh: array/scalar, random numbers following a cos distribution\n",
    "    #        phi:   array/sacalar, random numbers for the angle phi\n",
    "    #        fs: array/scalar, disribution of s\n",
    "    #        Qq, Aq, Vq: array, Charges and vector couplings for each of the generated events\n",
    "    # returns-> array: the differential cross section evaluated on the given points\n",
    "    \n",
    "    return (fs/(s_var*64.0*np.pi**2)) * ( (4*np.pi*alpha)**2*Nc*( (1+costh**2)*(Qe**2*Qq**2 \\\n",
    "                   + 2*Qe*Qq*Ve*Vq*Chi1(s_var) + (Ae**2+Ve**2)*(Aq**2 + Vq**2)*Chi2(s_var))\\\n",
    "                   + costh*( 4*Qe*Qq*Ae*Aq*Chi1(s_var) + 8*Ae*Ve*Aq*Vq*Chi2(s_var) ) ) )\n",
    "\n",
    "def montecarlo_cross_section(N_steps, benchmark_value, s0, constant_s=True):\n",
    "    # Integrates the cross section using a simple montecarlo technique\n",
    "    # args-> N_steps: integer, number of steps for the montecarlo\n",
    "    #        benchmark_value: float, reference value to compare the result to\n",
    "    #        s0: float: the value of s to be used for the fixed s case (constant_s=True)\n",
    "    #        constant_s: boolean, indicaes whether to draw s from a uniform distribution or fix it\n",
    "    # returns: sigma_eval, array containing the differential cross section evaluated at each step\n",
    "    #          sigma_res: float, total cross section,  montecarlo_uncertainty: float, uncertainty in the montecarlo\n",
    "    #          error: float representing the deviation from the benchmark value\n",
    "    #          s: float/ array the s points evaluated\n",
    "    \n",
    "    # initialize the values\n",
    "    s, fs, costh, phi, Aq_array, Vq_array, charge_sequence = init_montecarlo(N_steps,s0,constant_s)\n",
    "    \n",
    "    if constant_s==True:\n",
    "        # integration interval for cos(theta)\n",
    "        volume_interval = 2.0\n",
    "    else:\n",
    "        volume_interval = 2.0 * ((Mz + 3*Gammaz)**2 - (Mz - 3*Gammaz)**2)\n",
    "    # value of the integral for phi\n",
    "    phi_integral = 2.0*np.pi\n",
    "\n",
    "    # calculate the cross section at several points\n",
    "    sigma_eval = diff_cross_section(s, costh, fs, \n",
    "                       charge_sequence ,Aq_array, Vq_array)\n",
    "\n",
    "    # perform the integral estimate\n",
    "    sigma_res = Nq*phi_integral*volume_interval*(np.mean(sigma_eval))*F_conv\n",
    "\n",
    "    # calculate the uncertainty\n",
    "    montecarlo_uncertainty = 2 * np.sqrt( (np.mean(sigma_eval**2) - np.mean(sigma_eval)**2) \n",
    "                                     /float(N_steps))*F_conv*Nq*phi_integral*volume_interval\n",
    "    \n",
    "    return sigma_eval, sigma_res, montecarlo_uncertainty, np.abs(sigma_res-benchmark_value), s\n",
    "                          "
   ]
  },
  {
   "cell_type": "code",
   "execution_count": 3,
   "metadata": {},
   "outputs": [],
   "source": [
    "#INITIALIZE CONSTANTS\n",
    "\n",
    "# qed coupling\n",
    "alpha = 1.0/129.0\n",
    "# Z boson mass\n",
    "Mz = 91.2\n",
    "# Z decay width\n",
    "Gammaz = 2.5\n",
    "# qcd colors\n",
    "Nc = 3.0\n",
    "# qcd light quark flavors\n",
    "Nq = 5.0\n",
    "# electric charge of electron\n",
    "Qe = -1.0\n",
    "# electric charge of light up type quarks\n",
    "Qu = 2.0/3.0\n",
    "# electric charge of down quarks\n",
    "Qd = -1.0/3.0\n",
    "# weinberg angle function\n",
    "sin2w = 0.223\n",
    "# prefactor for chi functions\n",
    "k = 1/(4.0*sin2w*(1-sin2w))\n",
    "\n",
    "Alpha_mz = 0.118\n",
    "\n",
    "# Quark Numbering scheme\n",
    "D_ = 1\n",
    "U_ = 2\n",
    "S_ = 3\n",
    "C_ = 4\n",
    "B_ = 5\n",
    "T_ = 6\n",
    "E_ = 11\n",
    "\n",
    "\n",
    "# weak isospin for down type and electros\n",
    "T3e = -1.0/2.0\n",
    "# weak isospin for up type (light)\n",
    "T3u = 1.0/2.0\n",
    "# conversion factor to picobars\n",
    "F_conv = 3.89379656 * 10**8\n",
    "\n",
    "# electron values\n",
    "Ae = Af(T3e)\n",
    "Ve = Vf(T3e, Qe)\n",
    "\n",
    "\n",
    "\n",
    "# Charge and pdgid set up for the events\n",
    "# the order of the lists is extrmely important as the 3 of them\n",
    "# give the properties of each quark\n",
    "quark_pdgids = [U_, C_, D_, S_, B_]\n",
    "quark_charges = np.asarray([Qu,Qu,Qd,Qd,Qd])\n",
    "quark_isospin = np.asarray([T3u,T3u,T3e,T3e,T3e])\n"
   ]
  },
  {
   "cell_type": "markdown",
   "metadata": {},
   "source": [
    "# Cross Section Integral\n",
    "\n",
    "## a) Fixed s"
   ]
  },
  {
   "cell_type": "code",
   "execution_count": 4,
   "metadata": {},
   "outputs": [
    {
     "name": "stdout",
     "output_type": "stream",
     "text": [
      "value =  42208.98615817455 + -  11.395987672210246 pb\n",
      "true =  42250 pb\n",
      "error =  41.01384182545007 pb\n"
     ]
    }
   ],
   "source": [
    "benchmark_value = 42_250\n",
    "N_montecarlo = 5*10**6\n",
    "s0 = Mz**2\n",
    "\n",
    "# perform the integration\n",
    "sigma_eval, sigma_res, montecarlo_uncertainty, error, s = montecarlo_cross_section(N_montecarlo, \n",
    "                                                                                   benchmark_value,s0)\n",
    "\n",
    "print('value = ', sigma_res, '+ - ', montecarlo_uncertainty, 'pb')\n",
    "print('true = ', benchmark_value, 'pb')\n",
    "print('error = ', np.abs(sigma_res-benchmark_value), 'pb')\n",
    "    "
   ]
  },
  {
   "cell_type": "code",
   "execution_count": 5,
   "metadata": {},
   "outputs": [],
   "source": [
    "N_list = np.logspace(1, 6,30).astype(int)\n",
    "\n",
    "# calculate the cross section for several max montecarlo points\n",
    "sigma_list = []\n",
    "uncertainty_list = []\n",
    "error_list = []\n",
    "\n",
    "for n in N_list:\n",
    "    sigma_eval, sigma_res, montecarlo_uncertainty, error, s = montecarlo_cross_section(n, benchmark_value, s0)\n",
    "    \n",
    "    sigma_list.append(sigma_res)\n",
    "    uncertainty_list.append(montecarlo_uncertainty)\n",
    "    error_list.append(error)\n",
    "    "
   ]
  },
  {
   "cell_type": "code",
   "execution_count": 6,
   "metadata": {},
   "outputs": [
    {
     "data": {
      "image/png": "[encoded data removed]",
      "text/plain": [
       "<Figure size 1584x432 with 2 Axes>"
      ]
     },
     "metadata": {},
     "output_type": "display_data"
    }
   ],
   "source": [
    "plt.figure(figsize=(22,6))\n",
    "plt.tight_layout()\n",
    "plt.suptitle('Scattering for Fixed $s$')\n",
    "\n",
    "plt.subplot(1,2,1)\n",
    "plt.loglog(N_list, error_list)\n",
    "plt.xlabel('$t_{max}$')\n",
    "plt.ylabel('Error (pb)')\n",
    "\n",
    "plt.subplot(1,2,2)\n",
    "plt.errorbar(N_list, sigma_list, yerr=uncertainty_list,ecolor='red')\n",
    "plt.yscale('log')\n",
    "plt.xscale('log')\n",
    "plt.xlabel('$t_{max}$')\n",
    "plt.ylabel('$\\sigma$')\n",
    "plt.savefig('figures/montecarlo_fixed_s.png')\n"
   ]
  },
  {
   "cell_type": "markdown",
   "metadata": {},
   "source": [
    "## b)  s from uniform distribution"
   ]
  },
  {
   "cell_type": "code",
   "execution_count": 7,
   "metadata": {},
   "outputs": [
    {
     "name": "stdout",
     "output_type": "stream",
     "text": [
      "value =  9922.074139128366 + -  11.181457484531379 pb\n",
      "true =  9880 pb\n",
      "error =  42.07413912836637 pb\n"
     ]
    }
   ],
   "source": [
    "benchmark_value = 9880\n",
    "N_montecarlo = 5*10**6\n",
    "\n",
    "sigma_eval_0, sigma_res, montecarlo_uncertainty, error,s_0 = \\\n",
    "                          montecarlo_cross_section(N_montecarlo, benchmark_value, s0 ,constant_s=False )\n",
    "\n",
    "print('value = ', sigma_res, '+ - ', montecarlo_uncertainty, 'pb')\n",
    "print('true = ', benchmark_value, 'pb')\n",
    "print('error = ', np.abs(sigma_res-benchmark_value), 'pb')\n"
   ]
  },
  {
   "cell_type": "code",
   "execution_count": 8,
   "metadata": {},
   "outputs": [
    {
     "ename": "KeyboardInterrupt",
     "evalue": "",
     "output_type": "error",
     "traceback": [
      "\u001b[0;31m---------------------------------------------------------------------------\u001b[0m",
      "\u001b[0;31mKeyboardInterrupt\u001b[0m                         Traceback (most recent call last)",
      "\u001b[0;32m<ipython-input-8-a7613442ceb0>\u001b[0m in \u001b[0;36m<module>\u001b[0;34m\u001b[0m\n\u001b[1;32m      5\u001b[0m \u001b[0;32mfor\u001b[0m \u001b[0ms0\u001b[0m \u001b[0;32min\u001b[0m \u001b[0ms_array\u001b[0m\u001b[0;34m:\u001b[0m\u001b[0;34m\u001b[0m\u001b[0;34m\u001b[0m\u001b[0m\n\u001b[1;32m      6\u001b[0m     \u001b[0m_\u001b[0m\u001b[0;34m,\u001b[0m \u001b[0msigma_res\u001b[0m\u001b[0;34m,\u001b[0m \u001b[0m_\u001b[0m\u001b[0;34m,\u001b[0m \u001b[0m_\u001b[0m\u001b[0;34m,\u001b[0m\u001b[0m_\u001b[0m \u001b[0;34m=\u001b[0m\u001b[0;31m \u001b[0m\u001b[0;31m\\\u001b[0m\u001b[0;34m\u001b[0m\u001b[0;34m\u001b[0m\u001b[0m\n\u001b[0;32m----> 7\u001b[0;31m                           \u001b[0mmontecarlo_cross_section\u001b[0m\u001b[0;34m(\u001b[0m\u001b[0mN_montecarlo\u001b[0m\u001b[0;34m,\u001b[0m \u001b[0mbenchmark_value\u001b[0m\u001b[0;34m,\u001b[0m \u001b[0ms0\u001b[0m \u001b[0;34m,\u001b[0m\u001b[0mconstant_s\u001b[0m\u001b[0;34m=\u001b[0m\u001b[0;32mTrue\u001b[0m \u001b[0;34m)\u001b[0m\u001b[0;34m\u001b[0m\u001b[0;34m\u001b[0m\u001b[0m\n\u001b[0m\u001b[1;32m      8\u001b[0m     \u001b[0msigma_s\u001b[0m\u001b[0;34m.\u001b[0m\u001b[0mappend\u001b[0m\u001b[0;34m(\u001b[0m\u001b[0msigma_res\u001b[0m\u001b[0;34m)\u001b[0m\u001b[0;34m\u001b[0m\u001b[0;34m\u001b[0m\u001b[0m\n\u001b[1;32m      9\u001b[0m \u001b[0;34m\u001b[0m\u001b[0m\n",
      "\u001b[0;32m<ipython-input-2-0c83320eb29a>\u001b[0m in \u001b[0;36mmontecarlo_cross_section\u001b[0;34m(N_steps, benchmark_value, s0, constant_s)\u001b[0m\n\u001b[1;32m     90\u001b[0m \u001b[0;34m\u001b[0m\u001b[0m\n\u001b[1;32m     91\u001b[0m     \u001b[0;31m# initialize the values\u001b[0m\u001b[0;34m\u001b[0m\u001b[0;34m\u001b[0m\u001b[0;34m\u001b[0m\u001b[0m\n\u001b[0;32m---> 92\u001b[0;31m     \u001b[0ms\u001b[0m\u001b[0;34m,\u001b[0m \u001b[0mfs\u001b[0m\u001b[0;34m,\u001b[0m \u001b[0mcosth\u001b[0m\u001b[0;34m,\u001b[0m \u001b[0mphi\u001b[0m\u001b[0;34m,\u001b[0m \u001b[0mAq_array\u001b[0m\u001b[0;34m,\u001b[0m \u001b[0mVq_array\u001b[0m\u001b[0;34m,\u001b[0m \u001b[0mcharge_sequence\u001b[0m \u001b[0;34m=\u001b[0m \u001b[0minit_montecarlo\u001b[0m\u001b[0;34m(\u001b[0m\u001b[0mN_steps\u001b[0m\u001b[0;34m,\u001b[0m\u001b[0ms0\u001b[0m\u001b[0;34m,\u001b[0m\u001b[0mconstant_s\u001b[0m\u001b[0;34m)\u001b[0m\u001b[0;34m\u001b[0m\u001b[0;34m\u001b[0m\u001b[0m\n\u001b[0m\u001b[1;32m     93\u001b[0m \u001b[0;34m\u001b[0m\u001b[0m\n\u001b[1;32m     94\u001b[0m     \u001b[0;32mif\u001b[0m \u001b[0mconstant_s\u001b[0m\u001b[0;34m==\u001b[0m\u001b[0;32mTrue\u001b[0m\u001b[0;34m:\u001b[0m\u001b[0;34m\u001b[0m\u001b[0;34m\u001b[0m\u001b[0m\n",
      "\u001b[0;32m<ipython-input-2-0c83320eb29a>\u001b[0m in \u001b[0;36minit_montecarlo\u001b[0;34m(N_steps, s0, s_constant)\u001b[0m\n\u001b[1;32m     46\u001b[0m \u001b[0;34m\u001b[0m\u001b[0m\n\u001b[1;32m     47\u001b[0m     \u001b[0;31m# randomly generate the indices\u001b[0m\u001b[0;34m\u001b[0m\u001b[0;34m\u001b[0m\u001b[0;34m\u001b[0m\u001b[0m\n\u001b[0;32m---> 48\u001b[0;31m     \u001b[0mcharge_sequence\u001b[0m\u001b[0;34m,\u001b[0m \u001b[0mAq_array\u001b[0m\u001b[0;34m,\u001b[0m \u001b[0mVq_array\u001b[0m \u001b[0;34m=\u001b[0m \u001b[0minitialize_quark_sequence\u001b[0m\u001b[0;34m(\u001b[0m\u001b[0mN_steps\u001b[0m\u001b[0;34m)\u001b[0m\u001b[0;34m\u001b[0m\u001b[0;34m\u001b[0m\u001b[0m\n\u001b[0m\u001b[1;32m     49\u001b[0m \u001b[0;34m\u001b[0m\u001b[0m\n\u001b[1;32m     50\u001b[0m     \u001b[0;31m# draw random numbers for the integration\u001b[0m\u001b[0;34m\u001b[0m\u001b[0;34m\u001b[0m\u001b[0;34m\u001b[0m\u001b[0m\n",
      "\u001b[0;32m<ipython-input-2-0c83320eb29a>\u001b[0m in \u001b[0;36minitialize_quark_sequence\u001b[0;34m(N_steps)\u001b[0m\n\u001b[1;32m     32\u001b[0m     \u001b[0;31m# calculate the values for each step\u001b[0m\u001b[0;34m\u001b[0m\u001b[0;34m\u001b[0m\u001b[0;34m\u001b[0m\u001b[0m\n\u001b[1;32m     33\u001b[0m     \u001b[0mcharge_sequence\u001b[0m \u001b[0;34m=\u001b[0m \u001b[0mnp\u001b[0m\u001b[0;34m.\u001b[0m\u001b[0masarray\u001b[0m\u001b[0;34m(\u001b[0m\u001b[0;34m[\u001b[0m\u001b[0mquark_charges\u001b[0m\u001b[0;34m[\u001b[0m\u001b[0mx\u001b[0m\u001b[0;34m]\u001b[0m \u001b[0;32mfor\u001b[0m \u001b[0mx\u001b[0m \u001b[0;32min\u001b[0m \u001b[0mflavor_indices\u001b[0m\u001b[0;34m]\u001b[0m\u001b[0;34m)\u001b[0m\u001b[0;34m\u001b[0m\u001b[0;34m\u001b[0m\u001b[0m\n\u001b[0;32m---> 34\u001b[0;31m     \u001b[0misospin_sequence\u001b[0m \u001b[0;34m=\u001b[0m \u001b[0mnp\u001b[0m\u001b[0;34m.\u001b[0m\u001b[0masarray\u001b[0m\u001b[0;34m(\u001b[0m\u001b[0;34m[\u001b[0m\u001b[0mquark_isospin\u001b[0m\u001b[0;34m[\u001b[0m\u001b[0mx\u001b[0m\u001b[0;34m]\u001b[0m \u001b[0;32mfor\u001b[0m \u001b[0mx\u001b[0m \u001b[0;32min\u001b[0m \u001b[0mflavor_indices\u001b[0m\u001b[0;34m]\u001b[0m\u001b[0;34m)\u001b[0m\u001b[0;34m\u001b[0m\u001b[0;34m\u001b[0m\u001b[0m\n\u001b[0m\u001b[1;32m     35\u001b[0m     \u001b[0mAq_array\u001b[0m \u001b[0;34m=\u001b[0m \u001b[0mAf\u001b[0m\u001b[0;34m(\u001b[0m\u001b[0misospin_sequence\u001b[0m\u001b[0;34m)\u001b[0m\u001b[0;34m\u001b[0m\u001b[0;34m\u001b[0m\u001b[0m\n\u001b[1;32m     36\u001b[0m     \u001b[0mVq_array\u001b[0m \u001b[0;34m=\u001b[0m \u001b[0mVf\u001b[0m\u001b[0;34m(\u001b[0m\u001b[0misospin_sequence\u001b[0m\u001b[0;34m,\u001b[0m \u001b[0mcharge_sequence\u001b[0m\u001b[0;34m)\u001b[0m\u001b[0;34m\u001b[0m\u001b[0;34m\u001b[0m\u001b[0m\n",
      "\u001b[0;32m<ipython-input-2-0c83320eb29a>\u001b[0m in \u001b[0;36m<listcomp>\u001b[0;34m(.0)\u001b[0m\n\u001b[1;32m     32\u001b[0m     \u001b[0;31m# calculate the values for each step\u001b[0m\u001b[0;34m\u001b[0m\u001b[0;34m\u001b[0m\u001b[0;34m\u001b[0m\u001b[0m\n\u001b[1;32m     33\u001b[0m     \u001b[0mcharge_sequence\u001b[0m \u001b[0;34m=\u001b[0m \u001b[0mnp\u001b[0m\u001b[0;34m.\u001b[0m\u001b[0masarray\u001b[0m\u001b[0;34m(\u001b[0m\u001b[0;34m[\u001b[0m\u001b[0mquark_charges\u001b[0m\u001b[0;34m[\u001b[0m\u001b[0mx\u001b[0m\u001b[0;34m]\u001b[0m \u001b[0;32mfor\u001b[0m \u001b[0mx\u001b[0m \u001b[0;32min\u001b[0m \u001b[0mflavor_indices\u001b[0m\u001b[0;34m]\u001b[0m\u001b[0;34m)\u001b[0m\u001b[0;34m\u001b[0m\u001b[0;34m\u001b[0m\u001b[0m\n\u001b[0;32m---> 34\u001b[0;31m     \u001b[0misospin_sequence\u001b[0m \u001b[0;34m=\u001b[0m \u001b[0mnp\u001b[0m\u001b[0;34m.\u001b[0m\u001b[0masarray\u001b[0m\u001b[0;34m(\u001b[0m\u001b[0;34m[\u001b[0m\u001b[0mquark_isospin\u001b[0m\u001b[0;34m[\u001b[0m\u001b[0mx\u001b[0m\u001b[0;34m]\u001b[0m \u001b[0;32mfor\u001b[0m \u001b[0mx\u001b[0m \u001b[0;32min\u001b[0m \u001b[0mflavor_indices\u001b[0m\u001b[0;34m]\u001b[0m\u001b[0;34m)\u001b[0m\u001b[0;34m\u001b[0m\u001b[0;34m\u001b[0m\u001b[0m\n\u001b[0m\u001b[1;32m     35\u001b[0m     \u001b[0mAq_array\u001b[0m \u001b[0;34m=\u001b[0m \u001b[0mAf\u001b[0m\u001b[0;34m(\u001b[0m\u001b[0misospin_sequence\u001b[0m\u001b[0;34m)\u001b[0m\u001b[0;34m\u001b[0m\u001b[0;34m\u001b[0m\u001b[0m\n\u001b[1;32m     36\u001b[0m     \u001b[0mVq_array\u001b[0m \u001b[0;34m=\u001b[0m \u001b[0mVf\u001b[0m\u001b[0;34m(\u001b[0m\u001b[0misospin_sequence\u001b[0m\u001b[0;34m,\u001b[0m \u001b[0mcharge_sequence\u001b[0m\u001b[0;34m)\u001b[0m\u001b[0;34m\u001b[0m\u001b[0;34m\u001b[0m\u001b[0m\n",
      "\u001b[0;31mKeyboardInterrupt\u001b[0m: "
     ]
    }
   ],
   "source": [
    "# comparisson with the constant s case\n",
    "s_array = np.linspace((Mz - 3*Gammaz)**2 ,(Mz + 3*Gammaz)**2, num=40)\n",
    "sigma_s = []\n",
    "\n",
    "for s0 in s_array:\n",
    "    _, sigma_res, _, _,_ = \\\n",
    "                          montecarlo_cross_section(N_montecarlo, benchmark_value, s0 ,constant_s=True )\n",
    "    sigma_s.append(sigma_res)\n",
    "    \n",
    "sigma_s = np.asarray(sigma_s)"
   ]
  },
  {
   "cell_type": "code",
   "execution_count": null,
   "metadata": {},
   "outputs": [],
   "source": [
    "f_s = 1.0/((Mz + 3*Gammaz)**2-(Mz - 3*Gammaz)**2)\n",
    "\n",
    "hist, bin_edges = np.histogram(np.sqrt(s_0), weights=sigma_eval_0, bins=40)\n",
    "hist = (hist*1/f_s)*20*10**5\n",
    "\n",
    "plt.figure(figsize=(10,6))\n",
    "plt.title('Weighted Histogram of $s$')\n",
    "plt.bar(bin_edges[:-1], hist, width = 0.5)\n",
    "plt.plot(np.sqrt(s_array),sigma_s, color='orange', linewidth=4, label='fixed s')\n",
    "plt.xlabel(\"$\\sqrt{s} \\;\\; [GeV^2]$\")\n",
    "plt.legend()\n",
    "\n",
    "plt.savefig('figures/s_histogram.png')"
   ]
  },
  {
   "cell_type": "code",
   "execution_count": null,
   "metadata": {},
   "outputs": [],
   "source": [
    "# calculate the cross section for several max montecarlo points\n",
    "N_list = np.logspace(1, 6,30).astype(int)\n",
    "\n",
    "sigma_list = []\n",
    "uncertainty_list = []\n",
    "error_list = []\n",
    "\n",
    "for n in N_list:\n",
    "    sigma_eval, sigma_res, montecarlo_uncertainty, error,s = montecarlo_cross_section(n, benchmark_value, \n",
    "                                                                                    s0, constant_s=False)\n",
    "    sigma_list.append(sigma_res)\n",
    "    uncertainty_list.append(montecarlo_uncertainty)\n",
    "    error_list.append(error)\n",
    " \n",
    "uniform_error = error_list.copy()"
   ]
  },
  {
   "cell_type": "code",
   "execution_count": null,
   "metadata": {},
   "outputs": [],
   "source": [
    "plt.figure(figsize=(22,6))\n",
    "plt.tight_layout()\n",
    "plt.suptitle('Scattering for Uniform $s$')\n",
    "\n",
    "plt.subplot(1,2,1)\n",
    "plt.loglog(N_list, error_list)\n",
    "plt.xlabel('$t_{max}$')\n",
    "plt.ylabel('Error (pb)')\n",
    "\n",
    "plt.subplot(1,2,2)\n",
    "plt.errorbar(N_list, sigma_list, yerr=uncertainty_list,ecolor='red')\n",
    "plt.yscale('log')\n",
    "plt.xscale('log')\n",
    "plt.xlabel('$t_{max}$')\n",
    "plt.ylabel('$\\sigma$')\n",
    "plt.savefig('figures/montecarlo_uniform_s.png')"
   ]
  },
  {
   "cell_type": "markdown",
   "metadata": {},
   "source": [
    "## Vegas Integration"
   ]
  },
  {
   "cell_type": "code",
   "execution_count": null,
   "metadata": {},
   "outputs": [],
   "source": [
    "# we have to redifine the cross section to work for vegas\n",
    "def diff_cross_section_vegas(fs, x):\n",
    "    # differential cross section for vegas\n",
    "    # args-> x:, array, represents a point in the integration volume x[0]=s , x[1]=cos(\\theta)\n",
    "    # returns-> array: the differential cross section evaluated on the given points\n",
    "    \n",
    "    # integral factors\n",
    "    phi_ = 2*np.pi\n",
    "    \n",
    "    # randomly choose quark flavors\n",
    "    flavor_index = np.random.randint(low=0,high=Nq)\n",
    "    # calculate the values for each step\n",
    "    Qq = quark_charges[flavor_index]\n",
    "    isospin = quark_isospin[flavor_index]\n",
    "    Aq = Af(isospin)\n",
    "    Vq = Vf(isospin, Qq)\n",
    "        \n",
    "    sigma_vegas = (fs/(x[0]*64.0*np.pi**2)) * ( (4*np.pi*alpha)**2*Nc*( (1+x[1]**2)*(Qe**2*Qq**2 \\\n",
    "                   + 2*Qe*Qq*Ve*Vq*Chi1(x[0]) + (Ae**2+Ve**2)*(Aq**2 + Vq**2)*Chi2(x[0]))\\\n",
    "                   + x[1]*( 4*Qe*Qq*Ae*Aq*Chi1(x[0]) + 8*Ae*Ve*Aq*Vq*Chi2(x[0]) ) ) )\n",
    "    \n",
    "    return  Nq*phi_*(sigma_vegas)*F_conv\n"
   ]
  },
  {
   "cell_type": "code",
   "execution_count": null,
   "metadata": {},
   "outputs": [],
   "source": [
    "N_montecarlo = 1000\n",
    "\n",
    "# choose s as an uniformly distributed variable\n",
    "s_upper = (Mz + 3*Gammaz)**2 \n",
    "s_lower = (Mz - 3*Gammaz)**2 \n",
    "f_vegas = 1.0/(s_upper-s_lower)\n",
    "\n",
    "\n",
    "# first interval is for s, second is for cos(\\theta)\n",
    "integrator = vegas.Integrator([ [s_lower, s_upper], [-1,1] ])\n",
    "\n",
    "cross_section_vegas = integrator(functools.partial(diff_cross_section_vegas,f_vegas), nitn = 10, neval = N_montecarlo)\n",
    "\n",
    "print(cross_section_vegas.summary())\n"
   ]
  },
  {
   "cell_type": "code",
   "execution_count": null,
   "metadata": {},
   "outputs": [],
   "source": [
    "print('benchmark value = ' , 9880 )\n",
    "\n",
    "integrator.map.show_grid(30,plotter=plt)\n",
    "\n",
    "plt.title('Vegas Integration Grid')\n",
    "plt.tight_layout()\n",
    "plt.savefig('figures/vegas_fig.png')"
   ]
  },
  {
   "cell_type": "markdown",
   "metadata": {},
   "source": [
    "## Importance Sampling\n",
    "\n",
    "Using the breit-wigner distribution\n"
   ]
  },
  {
   "cell_type": "code",
   "execution_count": null,
   "metadata": {},
   "outputs": [],
   "source": [
    "def breit_wigner(s_var):\n",
    "    # calculates the breit_wigner function for a given collection of energy s \n",
    "    # args-> s_var: array or scalar containing center of mass energies s\n",
    "    # returns -> array or scalar\n",
    "    return 1/((s_var-Mz**2)**2 + Mz**2*Gammaz**2)\n",
    "\n",
    "def pick_s_from_rho(rho_var):\n",
    "    # calculate a center of mass energy s for a given on rho\n",
    "    # args-> rho_var: array or scalar representing rho\n",
    "    # returns -> the s array or scalar\n",
    "    \n",
    "    return np.tan(rho_var)* Mz*Gammaz + Mz**2\n",
    "\n",
    "def calcualte_rho(s_var):\n",
    "    # calculates rho from s \n",
    "    return np.arctan((s_var - Mz**2)/(Mz*Gammaz))\n",
    "\n",
    "def init_importance_sampling(N_steps):\n",
    "    # generate the necesarry quantities for the importance sampling montecarlo\n",
    "    # args -> Nsteps: integerm indicates the number of montecarlo steps\n",
    "    \n",
    "    # randomly generate the indices  \n",
    "    charge_sequence, Aq_array, Vq_array = initialize_quark_sequence(N_steps)\n",
    "    \n",
    "    s_upper = (Mz + 3*Gammaz)**2 \n",
    "    s_lower = (Mz - 3*Gammaz)**2 \n",
    "    # generate the simulation events\n",
    "\n",
    "    # get the upper and lower indices\n",
    "    rho_lower = calcualte_rho(s_lower)\n",
    "    rho_upper = calcualte_rho(s_upper)\n",
    "    \n",
    "    volume_interval =  2* (rho_upper - rho_lower)/(Mz*Gammaz)\n",
    "    \n",
    "    # generate random rho's\n",
    "    rho_rand = np.random.uniform(low=rho_lower, high=rho_upper, size=(N_steps))\n",
    "    # calculate s from rho\n",
    "    s_var = pick_s_from_rho(rho_rand)\n",
    "    fs = 1.0/(s_upper-s_lower)\n",
    "    \n",
    "    # generate angles\n",
    "    costh = np.random.uniform(low=-1, high=1, size=(N_steps))\n",
    "    phi = np.random.uniform(low=0, high=2*np.pi, size=(N_steps))\n",
    "    \n",
    "    return s_var, fs, costh, phi, Aq_array, Vq_array, charge_sequence, volume_interval\n"
   ]
  },
  {
   "cell_type": "code",
   "execution_count": null,
   "metadata": {},
   "outputs": [],
   "source": [
    "N_montecarlo = 10**6\n",
    "benchmark_value = 9880\n",
    "\n",
    "s, fs, costh, phi, Aq_array, Vq_array, charge_sequence, \\\n",
    "                 volume_interval = init_importance_sampling(N_montecarlo)\n",
    "\n",
    "# breit wigner function\n",
    "bf_function = breit_wigner(s)\n",
    "\n",
    "# calculate sigma\n",
    "sigma_eval = diff_cross_section(s, costh, fs, charge_sequence ,Aq_array, Vq_array)\n",
    "\n",
    "phi_integral = 2*np.pi\n",
    "\n",
    "# perform the integral and calculate the uncertainty\n",
    "importance_sigma = Nq*phi_integral*volume_interval*(np.mean(sigma_eval/bf_function))*F_conv\n",
    "importance_uncert =  volume_interval*Nq*phi_integral*F_conv*np.sqrt((np.mean((sigma_eval/bf_function)**2) - \n",
    "                                                                    np.mean(sigma_eval/bf_function)**2)/N_montecarlo)\n",
    "\n",
    "print('calculated cross section = ', importance_sigma,'+-',importance_uncert)\n",
    "print('true = ', benchmark_value, 'pb')\n",
    "print('error = ', np.abs(importance_sigma-benchmark_value), 'pb')\n"
   ]
  },
  {
   "cell_type": "code",
   "execution_count": null,
   "metadata": {},
   "outputs": [],
   "source": [
    "# calculate the cross section for several max montecarlo points\n",
    "N_list = np.logspace(1, 6,30).astype(int)\n",
    "\n",
    "sigma_list = []\n",
    "uncertainty_list = []\n",
    "error_list = []\n",
    "\n",
    "for n in N_list:\n",
    "    s, fs, costh, phi, Aq_array, Vq_array, charge_sequence, \\\n",
    "                 volume_interval = init_importance_sampling(n)\n",
    "\n",
    "    # breit wigner function\n",
    "    bf_function = breit_wigner(s)\n",
    "\n",
    "    # calculate sigma\n",
    "    sigma_eval = diff_cross_section(s, costh, fs, charge_sequence ,Aq_array, Vq_array)\n",
    "\n",
    "    phi_integral = 2*np.pi\n",
    "\n",
    "    importance_sigma = Nq*phi_integral*volume_interval*(np.mean(sigma_eval/bf_function))*F_conv\n",
    "    importance_uncert =  volume_interval*Nq*phi_integral*F_conv*np.sqrt((np.mean((sigma_eval/bf_function)**2) - \n",
    "                                                                        np.mean(sigma_eval/bf_function)**2)/n)\n",
    "    error = np.abs(importance_sigma-benchmark_value)\n",
    "    \n",
    "    sigma_list.append(importance_sigma)\n",
    "    uncertainty_list.append(importance_uncert)\n",
    "    error_list.append(error)\n",
    "    "
   ]
  },
  {
   "cell_type": "code",
   "execution_count": null,
   "metadata": {},
   "outputs": [],
   "source": [
    "plt.figure(figsize=(22,6))\n",
    "plt.tight_layout()\n",
    "plt.suptitle('Importance Sampling $s$')\n",
    "\n",
    "plt.subplot(1,2,1)\n",
    "plt.loglog(N_list, error_list, label='Importance sampling', linestyle='dashed')\n",
    "plt.loglog(N_list, uniform_error)\n",
    "\n",
    "plt.legend()\n",
    "plt.xlabel('$t_{max}$')\n",
    "plt.ylabel('Error (pb)')\n",
    "\n",
    "plt.subplot(1,2,2)\n",
    "plt.errorbar(N_list, sigma_list, yerr=uncertainty_list,ecolor='red')\n",
    "plt.yscale('log')\n",
    "plt.xscale('log')\n",
    "plt.xlabel('$t_{max}$')\n",
    "plt.ylabel('$\\sigma$')\n",
    "plt.savefig('figures/montecarlo_importance_sampling.png')\n"
   ]
  },
  {
   "cell_type": "markdown",
   "metadata": {},
   "source": [
    "# Parton shower"
   ]
  },
  {
   "cell_type": "code",
   "execution_count": null,
   "metadata": {},
   "outputs": [],
   "source": [
    "# get the coupling for several values of momentum\n",
    "ts_array = np.logspace(0, 5,100).astype(int)\n",
    "alpha_s = alphas.AlphaS(Mz, Alpha_mz)\n",
    "\n",
    "coupling0_array = np.asarray([alpha_s.as0(t) for t in ts_array])\n",
    "coupling1_array = np.asarray([alpha_s.as1(t) for t in ts_array])"
   ]
  },
  {
   "cell_type": "code",
   "execution_count": null,
   "metadata": {},
   "outputs": [],
   "source": [
    "plt.figure(figsize=(13.5,6))\n",
    "plt.suptitle('Coupling Constant Scale Dependence')\n",
    "plt.tight_layout()\n",
    "plt.subplot(1,2,1)\n",
    "plt.plot(ts_array,coupling0_array)\n",
    "plt.xscale('log')\n",
    "plt.ylabel(r\"$\\alpha_0$\")\n",
    "plt.xlabel(r\"$t \\;\\; [GeV^2]$\")\n",
    "\n",
    "plt.subplot(1,2,2)\n",
    "plt.plot(ts_array,coupling1_array)\n",
    "plt.xscale('log')\n",
    "plt.ylabel(r\"$\\alpha_1$\")\n",
    "plt.xlabel(r\"$t \\;\\; [GeV^2]$\")\n",
    "plt.savefig('figures/coupling_as_t.png')\n",
    "\n"
   ]
  },
  {
   "cell_type": "code",
   "execution_count": null,
   "metadata": {},
   "outputs": [],
   "source": [
    "\n",
    "N_montecarlo = 1000\n",
    "# initialize the events\n",
    "s, fs, costh, phi, Aq_array, Vq_array, charge_sequence, \\\n",
    "                 volume_interval = init_importance_sampling(N_montecarlo)\n",
    "# breit wigner function\n",
    "bf_function = breit_wigner(s)\n",
    "\n",
    "# calculate the differential cross section\n",
    "sigma_eval = diff_cross_section(s, costh, fs, charge_sequence ,Aq_array, Vq_array)\n",
    "phi_integral = 2*np.pi\n",
    "differential_sigma = Nq*phi_integral*volume_interval*(sigma_eval/bf_function)*F_conv\n"
   ]
  },
  {
   "cell_type": "code",
   "execution_count": null,
   "metadata": {},
   "outputs": [],
   "source": [
    "# factor for the initial momenta\n",
    "pref = np.sqrt(s)/2.0\n",
    "\n",
    "# scattering angles\n",
    "theta = np.arccos(costh)\n",
    "\n",
    "# iterate on events \n",
    "p_eplus_list = []\n",
    "p_minus_list = []\n",
    "p_q_list = []\n",
    "p_barq_list = []\n",
    "event_list = []\n",
    "\n",
    "# iterate over all montecarlo events to create the objects\n",
    "for i in range(0, N_montecarlo):\n",
    "\n",
    "    # momenta for incoming particles\n",
    "    p_eplus = vector.Vec4(pref[i], 0,0,pref[i])\n",
    "    p_eminus = vector.Vec4(pref[i], 0,0,-pref[i])\n",
    "\n",
    "    # momenta for outgoing particles\n",
    "    p_q = vector.Vec4(pref[i], -pref[i]*np.cos(phi[i])*np.sin(theta[i]), -pref[i]*np.sin(phi[i])*np.sin(theta[i]),\n",
    "                      -pref[i]*np.cos(theta[i]))\n",
    "    \n",
    "    p_barq = vector.Vec4(pref[i], pref[i]*np.cos(phi[i])*np.sin(theta[i]), pref[i]*np.sin(phi[i])*np.sin(theta[i]),\n",
    "                         pref[i]*np.cos(theta[i]))\n",
    "    \n",
    "    # prepare the arguments for the shower class \n",
    "    # incoming particles \n",
    "    c_e = particle.Particle(E_, p_eminus, [0,0])\n",
    "    c_antie = particle.Particle(E_, p_eplus, [0,0])\n",
    "    \n",
    "    # find flavor of the outgoing quark: since there are repeated charges there are several possibilities each time\n",
    "    possible_quark = np.argwhere(quark_charges==charge_sequence[i]).reshape(-1,)\n",
    "    quark_index = np.random.choice(possible_quark)\n",
    "    quark_id = quark_pdgids[quark_index]\n",
    "    \n",
    "    # outgoing particles\n",
    "    c_quark = particle.Particle(quark_id, p_q, [1,0])\n",
    "    c_antiquark = particle.Particle(quark_id, p_barq, [0,1])\n",
    "\n",
    "    gen_event = [c_e, c_antie, c_quark, c_antiquark]\n",
    "    # specify the scale of the ecent\n",
    "    t_scale = Mz**2\n",
    "    showers = shower.Shower(alpha_s)\n",
    "    # run the shower\n",
    "    showers.Run(gen_event,t_scale)\n",
    "    # save the generated shower for each step\n",
    "    event_list.append(gen_event)\n"
   ]
  },
  {
   "cell_type": "code",
   "execution_count": null,
   "metadata": {},
   "outputs": [],
   "source": [
    "# count the final state particles, the first 2 positions are always the initial state electron and anti-e\n",
    "particle_count = [len(x[2:]) for x in event_list]\n",
    "av_particle_count = np.sum(np.asarray(particle_count) * np.asarray(differential_sigma))/np.sum(differential_sigma)\n"
   ]
  },
  {
   "cell_type": "code",
   "execution_count": null,
   "metadata": {},
   "outputs": [],
   "source": [
    "print('Average Final State Particle Count: ', av_particle_count)\n",
    "print('mean of the weights: ' , np.mean(differential_sigma))\n",
    "\n",
    "plt.figure(figsize=(10,6))\n",
    "plt.title('Final Sate Distribution')\n",
    "plt.hist(particle_count);\n",
    "plt.xlabel('Number of Final State Particles')\n",
    "plt.ylabel('Counts')\n",
    "plt.savefig('figures/final_state_hist.png')\n"
   ]
  },
  {
   "cell_type": "markdown",
   "metadata": {},
   "source": [
    "to create a particle I need both the id and the colour charge\n",
    "https://pdg.lbl.gov/2019/reviews/rpp2019-rev-monte-carlo-numbering.pdf\n",
    "\n",
    "Remember that we are ALWAYS creating a quark anti quark pair, so at each step of the way, the properties are the same exept for the charges (electric, color or whatever) are the negative"
   ]
  },
  {
   "cell_type": "markdown",
   "metadata": {},
   "source": [
    "# Jet Formation"
   ]
  },
  {
   "cell_type": "code",
   "execution_count": null,
   "metadata": {},
   "outputs": [],
   "source": [
    "durham_alg = analysis.Algorithm()\n",
    "analyzer = analysis.Analysis(durham_alg)\n",
    "\n",
    "# feed the events with their corresponding weights to the jet algorithm\n",
    "for i in range(0,len(event_list)):\n",
    "    current_event = event_list[i]\n",
    "    current_w = differential_sigma[i]\n",
    "    analyzer.Analyze(current_event, current_w)"
   ]
  },
  {
   "cell_type": "code",
   "execution_count": null,
   "metadata": {},
   "outputs": [],
   "source": [
    "analyzer.Finalize('own_results')"
   ]
  },
  {
   "cell_type": "code",
   "execution_count": null,
   "metadata": {},
   "outputs": [],
   "source": [
    "yoda.plot_jet_histograms(['sherpa.yoda'])\n",
    "plt.savefig('figures/sherpa_histograms.png')"
   ]
  },
  {
   "cell_type": "code",
   "execution_count": null,
   "metadata": {},
   "outputs": [],
   "source": [
    "yoda.plot_jet_histograms(['own_results.yoda'])\n",
    "plt.savefig('figures/project_results.png')"
   ]
  },
  {
   "cell_type": "code",
   "execution_count": null,
   "metadata": {},
   "outputs": [],
   "source": []
  }
 ],
 "metadata": {
  "kernelspec": {
   "display_name": "Python 3",
   "language": "python",
   "name": "python3"
  },
  "language_info": {
   "codemirror_mode": {
    "name": "ipython",
    "version": 3
   },
   "file_extension": ".py",
   "mimetype": "text/x-python",
   "name": "python",
   "nbconvert_exporter": "python",
   "pygments_lexer": "ipython3",
   "version": "3.7.6"
  }
 },
 "nbformat": 4,
 "nbformat_minor": 4
}
