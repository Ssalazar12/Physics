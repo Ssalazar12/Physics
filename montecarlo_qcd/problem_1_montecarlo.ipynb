{
 "cells": [
  {
   "cell_type": "code",
   "execution_count": 1,
   "metadata": {},
   "outputs": [],
   "source": [
    "import numpy as np\n",
    "import matplotlib.pyplot as plt\n",
    "from scipy.stats import uniform\n"
   ]
  },
  {
   "cell_type": "code",
   "execution_count": 2,
   "metadata": {},
   "outputs": [],
   "source": [
    "#INITIALIZE CONSTANTS\n",
    "\n",
    "# qed coupling\n",
    "alpha = 1/129.0\n",
    "# Z boson mass\n",
    "Mz = 91.2\n",
    "# Z decay width\n",
    "Gammaz = 2.5\n",
    "# qcd colors\n",
    "Nc =3\n",
    "# qcd light quark flavors\n",
    "Nq = 5\n",
    "# electric charge of electron\n",
    "Qe = -1 \n",
    "# electric charge of light up type quarks\n",
    "Qu = 2.0/3.0\n",
    "# electric charge of down quarks\n",
    "Qd = -1.0/3.0\n",
    "# weinberg angle function\n",
    "sin2w = 0.223\n",
    "# prefactor for chi functions\n",
    "k = (4*sin2w*(1-sin2w))**(-1)\n",
    "\n",
    "# weak isospin for down type and electros\n",
    "T3e = -1.0/2.0\n",
    "# weak isospin for up type (light)\n",
    "T3u = 1.0/2.0"
   ]
  },
  {
   "cell_type": "code",
   "execution_count": 35,
   "metadata": {},
   "outputs": [],
   "source": [
    "def Vf(Tf3, Qf):\n",
    "    # calculates vector coupling for the f quark\n",
    "    # args-> Tf3: scalar, weak isosipin of f quark.\n",
    "    #        Qf: scalar, charge of f quark\n",
    "    # returns vf: scalar, vector copuling\n",
    "    \n",
    "    return Tf3 - 2*Qf*sin2w\n",
    "\n",
    "def Af(Tf3):\n",
    "    # calculates axial coupling for the f quark\n",
    "    # args-> Tf3: scalar, weak isosipin of f quark.\n",
    "    # returns af: scalar, vector copuling\n",
    "    \n",
    "    return Tf3\n",
    "\n",
    "def Chi1(s):\n",
    "    return k*s*(s-Mz**2)/( (s-Mz**2)**2 + Gammaz**2*Mz**2)\n",
    "    \n",
    "def Chi2(s):\n",
    "    return k*(s**2)/( (s-Mz**2)**2 + Gammaz**2*Mz**2)\n",
    "\n",
    "\n",
    "def diff_cross_section(s, costh, phi, fs, T3q, Qq ,Aq, Vq):\n",
    "    # evaluates the differential cross section at the given points\n",
    "    # args-> s: array/scalar, random numbers for the s varialbe\n",
    "    #        costh: array/scalar, random numbers following a cos distribution\n",
    "    #        phi:   array/sacalar, random numbers for the angle phi\n",
    "    # returns-> array: the differential cross section evaluated on the given points\n",
    "    \n",
    "    return fs*(1/(s*64*np.pi**2)) * ( (4*np.pi*alpha)**2*Nc*( (1+costh**2)*(Qe**2* Qq**2 \\\n",
    "                   + 2*Qe*Qq*Ve*Vq*Chi1(s) + (Ae**2+Ve**2)*(Aq**2 + Vq**2)*Chi2(s))\\\n",
    "                   + costh*( 4*Qe*Qq*Ae*Aq*Chi1(s) + 8*Ae*Ve*Aq*Vq*Chi2(s) ) ) )\n",
    "                                   "
   ]
  },
  {
   "cell_type": "code",
   "execution_count": 4,
   "metadata": {},
   "outputs": [],
   "source": [
    "# first we will integrate for a fixed s\n",
    "\n",
    "# integration values\n",
    "N_montecarlo = 20\n",
    "s = Mz **2\n",
    "costh = np.cos(np.random.rand(N_montecarlo)*np.pi)\n",
    "phi = np.random.rand(N_montecarlo)*2*np.pi\n",
    "fs = s\n",
    "\n",
    "# quark values\n",
    "T3q = T3u\n",
    "Qq = Qu\n",
    "Aq = Af(T3q)\n",
    "Vq = Vf(T3q, Qq)\n",
    "\n",
    "# electron values\n",
    "Ae = Af(T3e)\n",
    "Ve = Vf(T3e, Qe)\n"
   ]
  },
  {
   "cell_type": "markdown",
   "metadata": {},
   "source": [
    "- At each step of the montecarlo we chose a quark flavor randomly\n",
    "- evaluate in many places, sum, divide by n and get multiply by the interval\n"
   ]
  },
  {
   "cell_type": "code",
   "execution_count": 38,
   "metadata": {},
   "outputs": [],
   "source": [
    "# initialize electron data \n",
    "Ae_array = np.empty(N_montecarlo); Ae_array.fill(Af(T3e))\n",
    "Ve_array = np.empty(N_montecarlo); Ve_array.fill(Vf(T3e, Qe))\n",
    "\n",
    "# each step of the montecarlo has to choose one of the flavors randomly\n",
    "# order in the arrays is important\n",
    "quark_charges = np.asarray([Qu,Qd])\n",
    "quark_isospin = np.asarray([T3u, T3e])\n",
    "\n",
    "# randomly generate the indices\n",
    "flavor_indices = np.random.randint(0,2, size=N_montecarlo)\n",
    "\n",
    "# calculate the values for each step\n",
    "charge_sequence = np.asarray([quark_charges[x] for x in flavor_indices])\n",
    "isospin_sequence = np.asarray([quark_isospin[x] for x in flavor_indices])\n",
    "Aq_array = Af(isospin_sequence)\n",
    "Vq_array = Vf(isospin_sequence, charge_sequence)"
   ]
  },
  {
   "cell_type": "code",
   "execution_count": 56,
   "metadata": {},
   "outputs": [
    {
     "data": {
      "text/plain": [
       "array([-0.35133333, -0.35133333,  0.20266667,  0.20266667, -0.35133333,\n",
       "        0.20266667, -0.35133333, -0.35133333,  0.20266667,  0.20266667,\n",
       "        0.20266667,  0.20266667,  0.20266667, -0.35133333, -0.35133333,\n",
       "       -0.35133333,  0.20266667, -0.35133333, -0.35133333, -0.35133333])"
      ]
     },
     "execution_count": 56,
     "metadata": {},
     "output_type": "execute_result"
    }
   ],
   "source": [
    "Vq_array "
   ]
  },
  {
   "cell_type": "code",
   "execution_count": null,
   "metadata": {},
   "outputs": [],
   "source": []
  }
 ],
 "metadata": {
  "kernelspec": {
   "display_name": "Python 3",
   "language": "python",
   "name": "python3"
  },
  "language_info": {
   "codemirror_mode": {
    "name": "ipython",
    "version": 3
   },
   "file_extension": ".py",
   "mimetype": "text/x-python",
   "name": "python",
   "nbconvert_exporter": "python",
   "pygments_lexer": "ipython3",
   "version": "3.7.6"
  }
 },
 "nbformat": 4,
 "nbformat_minor": 4
}
