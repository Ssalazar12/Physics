{
 "cells": [
  {
   "cell_type": "markdown",
   "metadata": {},
   "source": [
    "# Proyect 1: DMRG and Particle in a Box\n",
    "\n",
    "### To do:\n",
    "1. fix problem with saving effective hamiltonians (memory problem change variables)to fix this create functions to clean up the code\n",
    "2. Implement a rounding protocol \n",
    "3. create the basis generation funciton using itertools\n",
    "4. Write a discretization algorithm for the particle in a box for open and periodic boundary conditions\n",
    "5. Clean up code\n"
   ]
  },
  {
   "cell_type": "code",
   "execution_count": 1,
   "metadata": {},
   "outputs": [],
   "source": [
    "import numpy as np\n",
    "import scipy.linalg as la\n",
    "from itertools import combinations, combinations_with_replacement\n"
   ]
  },
  {
   "cell_type": "markdown",
   "metadata": {},
   "source": [
    "# 1.1 Density matrix computation\n",
    "\n",
    "steps:\n",
    "\n",
    "    1. Define Hamiltonian\n",
    "    2. Choose system size and find the basis\n",
    "    4. Compute the matrix elements\n",
    "    5. Diagonalize the matrix\n",
    "    6. Write Down the ground state as a matrix\n",
    "    7. Compute the density matrix via matrix multiplication\n",
    "\n",
    "### b) L = 4\n",
    "\n",
    "Idea: Use the operators in matrix form to make the calculations"
   ]
  },
  {
   "cell_type": "code",
   "execution_count": 2,
   "metadata": {},
   "outputs": [],
   "source": [
    "# definition of the operators\n",
    "s_up = np.asarray([[0,1],[0,0]])\n",
    "s_down = np.asarray([[0,0],[1,0]])\n",
    "s_z = np.asarray([[1/2,0],[0,-1/2]])\n"
   ]
  },
  {
   "cell_type": "code",
   "execution_count": 3,
   "metadata": {},
   "outputs": [],
   "source": [
    "def apply_operator(current_operator, next_operator,spin_chain, position):\n",
    "    # applies the specified operators to the current and next place in the chain\n",
    "    # args-> current_operator, next_operator: matrices representing the action on the current and \n",
    "    #        the next lattice site\n",
    "    #         spin_chain: list of lists representing a basis vecotr\n",
    "    #         position: index indicating the current position of the lattice\n",
    "    # returns the transoformed spin chain\n",
    "    spins_f = spin_chain.copy()\n",
    "    # matrix multiplication only in the correct position of the basis vector\n",
    "    spins_f[position] = list(np.matmul(current_operator,spin_chain[position]))\n",
    "    spins_f[position+1] = list(np.matmul(next_operator,spin_chain[position+1]))    \n",
    "    \n",
    "    return spins_f\n",
    "\n",
    "def calculate_matrix_term(spin_bra, spin_ket):\n",
    "    # applies the heisenberg hamiltonian to each lattice site, for the hesinberg hamiltonian\n",
    "    # we have 3 terms for each site.\n",
    "    # args-> spin_bra: a list of lists representing the bra basis vector,\n",
    "    #        spin_ket: a list of lists representing the ket basis vector\n",
    "    # returns the matrix element as a number\n",
    "    \n",
    "    # save the spin chains just in case we need them latter\n",
    "    sz_term = []\n",
    "    # ket acted upon by first ladder operator product\n",
    "    first_ladder = []\n",
    "    # ket acted upon by second ladder operator product\n",
    "    second_ladder = []\n",
    "    eigen_values = []\n",
    "    for i in range(0,len(spin_ket)-1):\n",
    "        #Sz operator term\n",
    "        transformed_spins = apply_operator(s_z,s_z,spin_ket,i)\n",
    "        sz_term.append(transformed_spins)\n",
    "\n",
    "        # First ladder operator term \n",
    "        transformed_spins = apply_operator(s_up,s_down,spin_ket,i)\n",
    "        first_ladder.append(transformed_spins)\n",
    "\n",
    "        # second ladder operator term\n",
    "        transformed_spins = apply_operator(s_down,s_up,spin_ket,i)\n",
    "        second_ladder.append(transformed_spins)\n",
    "\n",
    "        # now we take the inner product with the basis Bra\n",
    "        # to represent the inner product, sum the rows and then multiply all the elements to get the eigen value\n",
    "        bracket = np.multiply(spin_bra,sz_term[i])\n",
    "        eigen_values.append(np.prod(bracket.sum(1)))\n",
    "        \n",
    "        # remember that ladder operator terms have a 1/2 in front of them\n",
    "        bracket = np.multiply(spin_bra,first_ladder[i])\n",
    "        eigen_values.append(0.5*np.prod(bracket.sum(1)))\n",
    "\n",
    "        bracket = np.multiply(spin_bra,second_ladder[i])\n",
    "        eigen_values.append(0.5*np.prod(bracket.sum(1)))\n",
    "\n",
    "\n",
    "    return np.sum(eigen_values)\n",
    "\n"
   ]
  },
  {
   "cell_type": "markdown",
   "metadata": {},
   "source": [
    "Now we have to calculate all the matrix elements for the ground state part of the Hamiltonian. The ground state\n",
    "is given by all the configurations corresponding to S=0"
   ]
  },
  {
   "cell_type": "code",
   "execution_count": 4,
   "metadata": {},
   "outputs": [],
   "source": [
    "# Defining the ground state basis\n",
    "basis_1 = [[1,0],[1,0], [0,1], [0,1]]\n",
    "basis_2 = [[1,0],[0,1], [1,0], [0,1]]\n",
    "basis_3 = [[1,0],[0,1], [0,1], [1,0]]\n",
    "basis_4 = [[0,1],[1,0], [1,0], [0,1]]\n",
    "basis_5 = [[0,1],[1,0], [0,1], [1,0]]\n",
    "basis_6 = [[0,1],[0,1], [1,0], [1,0]]\n",
    "\n",
    "basis_list = [ basis_1, basis_2, basis_3, basis_4, basis_5, basis_6]\n"
   ]
  },
  {
   "cell_type": "code",
   "execution_count": 5,
   "metadata": {},
   "outputs": [
    {
     "data": {
      "text/plain": [
       "array([[ 0.25,  0.5 ,  0.  ,  0.  ,  0.  ,  0.  ],\n",
       "       [ 0.5 , -0.75,  0.5 ,  0.5 ,  0.  ,  0.  ],\n",
       "       [ 0.  ,  0.5 , -0.25,  0.  ,  0.5 ,  0.  ],\n",
       "       [ 0.  ,  0.5 ,  0.  , -0.25,  0.5 ,  0.  ],\n",
       "       [ 0.  ,  0.  ,  0.5 ,  0.5 , -0.75,  0.5 ],\n",
       "       [ 0.  ,  0.  ,  0.  ,  0.  ,  0.5 ,  0.25]])"
      ]
     },
     "execution_count": 5,
     "metadata": {},
     "output_type": "execute_result"
    }
   ],
   "source": [
    "# calculate each matrix element by iterating over the basis list two times\n",
    "hamiltonian_matrix = np.zeros((len(basis_list), len(basis_list)))\n",
    "# columns iteration\n",
    "for i in range(len(basis_list)):\n",
    "    # row iteration\n",
    "    for j in range(len(basis_list)):\n",
    "        hamiltonian_matrix[j,i] = calculate_matrix_term(basis_list[j],basis_list[i])\n",
    "\n",
    "hamiltonian_matrix"
   ]
  },
  {
   "cell_type": "code",
   "execution_count": 6,
   "metadata": {},
   "outputs": [
    {
     "name": "stdout",
     "output_type": "stream",
     "text": [
      "Eigenvalues for the groundstate block\n",
      "[-1.6160254 +0.j -0.95710678+0.j  0.1160254 +0.j  0.75      +0.j\n",
      "  0.45710678+0.j -0.25      +0.j]\n",
      "\n",
      "chosen eigenvalue\n",
      "(-1.6160254037844373+0j)\n",
      "\n",
      "chosen eigenvector\n",
      "[ 0.14942925 -0.55767754  0.40824829  0.40824829 -0.55767754  0.14942925]\n"
     ]
    }
   ],
   "source": [
    "# matrix diagonalization\n",
    "# .eig returns a tuple of vectors\n",
    "g_eigenvalues, g_eigenvectors = la.eig(np.asmatrix(hamiltonian_matrix))\n",
    "# save the lowest eigenvalue and eigenvector which represent the ground state\n",
    "ground_index = g_eigenvalues.argmin()\n",
    "\n",
    "print(\"Eigenvalues for the groundstate block\")\n",
    "print(g_eigenvalues)\n",
    "print()\n",
    "\n",
    "# We now choose the lowest eigen value since it corresponds to the ground state\n",
    "print(\"chosen eigenvalue\")\n",
    "print(g_eigenvalues[ground_index])\n",
    "print()\n",
    "print(\"chosen eigenvector\")\n",
    "print(g_eigenvectors[:,ground_index])\n",
    "chosen_eigenvector = g_eigenvectors[:,ground_index]"
   ]
  },
  {
   "cell_type": "markdown",
   "metadata": {},
   "source": [
    "Matrix decomposition. We now calculate $\\psi_{ij}$ for the matrix representation of the ground state.\n",
    "Remember that, since ground state is always at S = 0, **the matrix elements that correspond to another value of the spin have to be set to zero**.\n",
    "\n",
    "We have to choose how to sepparate our gorund state in two systems.\n",
    "\n",
    "We will use the eigen vector with the highest eigen values, since the rest of them tend to be very small\n",
    "\n",
    "## for now we do it by hand\n",
    "\n",
    "# RESARCH PYTHON PERMUTATIONS"
   ]
  },
  {
   "cell_type": "code",
   "execution_count": 7,
   "metadata": {},
   "outputs": [],
   "source": [
    "# define the two system basis\n",
    "A_1 = [[1,0],[1,0]]\n",
    "A_2 = [[1,0],[0,1]]\n",
    "A_3 = [[0,1],[1,0]]\n",
    "A_4 = [[0,1],[0,1]]\n",
    "\n",
    "A_basis = [A_1,A_2,A_3,A_4]\n",
    "B_basis = [A_1,A_2,A_3,A_4]\n"
   ]
  },
  {
   "cell_type": "code",
   "execution_count": 8,
   "metadata": {},
   "outputs": [],
   "source": [
    "# we now calculate the ground state matrix representation\n",
    "psi_ij = np.zeros((len(A_basis), len(B_basis)))\n",
    "#rows\n",
    "for i in range(0,len(A_basis)):\n",
    "    #columns\n",
    "    for j in range(0,len(B_basis)):\n",
    "        is_in_gbasis = A_basis[j]+B_basis[i] in basis_list\n",
    "        if is_in_gbasis == True: \n",
    "            # save index of the basis vector to find the eigen value\n",
    "            eigen_index = basis_list.index(A_basis[j]+B_basis[i])\n",
    "            psi_ij[i,j] = chosen_eigenvector[eigen_index]\n",
    "\n",
    "rho_reduced = np.asmatrix(psi_ij)* np.asmatrix(psi_ij).H"
   ]
  },
  {
   "cell_type": "code",
   "execution_count": 9,
   "metadata": {},
   "outputs": [
    {
     "data": {
      "text/plain": [
       "array([[ 0.       ,  0.       ,  0.       ,  0.1494292],\n",
       "       [ 0.       , -0.5576775,  0.4082483,  0.       ],\n",
       "       [ 0.       ,  0.4082483, -0.5576775,  0.       ],\n",
       "       [ 0.1494292,  0.       ,  0.       ,  0.       ]])"
      ]
     },
     "execution_count": 9,
     "metadata": {},
     "output_type": "execute_result"
    }
   ],
   "source": [
    "np.set_printoptions(precision=7)\n",
    "psi_ij"
   ]
  },
  {
   "cell_type": "code",
   "execution_count": 10,
   "metadata": {},
   "outputs": [
    {
     "data": {
      "text/plain": [
       "matrix([[ 0.0223291,  0.       ,  0.       ,  0.       ],\n",
       "        [ 0.       ,  0.4776709, -0.4553418,  0.       ],\n",
       "        [ 0.       , -0.4553418,  0.4776709,  0.       ],\n",
       "        [ 0.       ,  0.       ,  0.       ,  0.0223291]])"
      ]
     },
     "execution_count": 10,
     "metadata": {},
     "output_type": "execute_result"
    }
   ],
   "source": [
    "rho_reduced"
   ]
  },
  {
   "cell_type": "markdown",
   "metadata": {},
   "source": [
    "Calculate the reduced density matrix via conjugate transposed"
   ]
  },
  {
   "cell_type": "markdown",
   "metadata": {},
   "source": [
    "# 1.2 DMRG for particle in a box\n",
    "\n",
    "### c) Exact Diagonalization of Disctretized Hamiltonian"
   ]
  },
  {
   "cell_type": "code",
   "execution_count": null,
   "metadata": {},
   "outputs": [],
   "source": []
  },
  {
   "cell_type": "markdown",
   "metadata": {},
   "source": [
    "### d) Density Matrix and Reduced density matrix for the ground state hamiltonian (Both Exact)"
   ]
  },
  {
   "cell_type": "code",
   "execution_count": null,
   "metadata": {},
   "outputs": [],
   "source": []
  },
  {
   "cell_type": "markdown",
   "metadata": {},
   "source": [
    "### e) DMRG\n",
    "\n",
    "\n",
    "**Warmup Phase**\n",
    "\n",
    "For a system with L sites, start by using a system of $L^´= 4$ and grow it until it reaches full size. Since this system has reflection \n",
    "symmetry we can take it up to $L^´= L/2$. Remember that the idea is to diagonalize 4x4 matrices always.\n",
    "\n"
   ]
  },
  {
   "cell_type": "code",
   "execution_count": 19,
   "metadata": {},
   "outputs": [],
   "source": [
    "def update_hamiltonian(current_H, new_t12, new_h11):\n",
    "    # updates the block hamiltonian to include the new matrix elements of the new basis\n",
    "    # args---> current_H: Matrix representing the block hamiltonian from the last step\n",
    "    #       new_t12, new_h11: scalats representing H11 and T12 matrix elements on the new basis, \n",
    "    # returns---> new_H: Matrix representing the new hamiltonian\n",
    "    \n",
    "    # create copy to make sure the memory is not the same\n",
    "    new_H = current_H.copy()\n",
    "    new_H[0,0] = new_h11\n",
    "    new_H[0,1] = new_t12\n",
    "    new_H[1,0] = new_t12\n",
    "    # for the environment we have reflectin symmetry\n",
    "    new_H[2,3] = new_t12\n",
    "    new_H[3,2] = new_t12\n",
    "    new_H[3,3] = new_h11\n",
    "    \n",
    "    return new_H\n"
   ]
  },
  {
   "cell_type": "code",
   "execution_count": 20,
   "metadata": {},
   "outputs": [
    {
     "data": {
      "text/plain": [
       "numpy.matrix"
      ]
     },
     "execution_count": 20,
     "metadata": {},
     "output_type": "execute_result"
    }
   ],
   "source": [
    "# System size definition\n",
    "L = 40\n",
    "# vector that saves effective hamiltonians\n",
    "H_list = []\n",
    "T_list = []\n",
    "\n",
    "# initialize the hamiltonian for the warmup phase\n",
    "H = np.asmatrix(np.zeros((4,4)))\n",
    "np.fill_diagonal(H, 2)\n",
    "\n",
    "for i in range(0,4-1):\n",
    "    # fill upper diagonal\n",
    "    H[i,i+1] = -1\n",
    "    # fill lower diagonal\n",
    "    H[i+1,i] = -1\n",
    "type(H)"
   ]
  },
  {
   "cell_type": "code",
   "execution_count": 17,
   "metadata": {},
   "outputs": [],
   "source": [
    "# initialize the blocks\n",
    "H11 = 2.0\n",
    "T12 = -1.0\n",
    "T34 = -1.0\n",
    "H44 = 2.0"
   ]
  },
  {
   "cell_type": "code",
   "execution_count": 13,
   "metadata": {},
   "outputs": [],
   "source": [
    "# Form the hamiltonian for the current site\n",
    "H[0,0] = H11\n",
    "H[0,1] = T12\n",
    "H[1,0] = T12\n",
    "H[2,3] = T34\n",
    "H[3,2] = T34\n",
    "H[3,3] = H44\n",
    "#save the hamiltonian for the current site\n",
    "H_list.append(H)\n",
    "T_list.append(T12)\n",
    "#print(H_list[i])\n"
   ]
  },
  {
   "cell_type": "code",
   "execution_count": 14,
   "metadata": {},
   "outputs": [],
   "source": [
    "for i in range(0,int(L/2)):\n",
    "    # diagonalize and get the ground state energy and vector\n",
    "    eigenvalues, eigenvectors = la.eig(np.asmatrix(H))\n",
    "    g_index = eigenvalues.argmin()\n",
    "    E_ground = eigenvalues[g_index]\n",
    "    psi_ground = eigenvectors[g_index]\n",
    "    \n",
    "    # given that we have a left block the new basis is formed with the first two coefficients\n",
    "    new_basis = np.asmatrix([psi_ground[0],psi_ground[1]])\n",
    "    new_basis = 1/np.sqrt(psi_ground[0]**2 + psi_ground[1]**2) * new_basis\n",
    "    \n",
    "    a1 = new_basis[0,0]\n",
    "    a2 = new_basis[0,1]\n",
    "\n",
    "    # calculate the new block\n",
    "    # this term is the updated wave function at site i+1\n",
    "    T12 = - a2\n",
    "    T34 = - a2\n",
    "    H11 = a1**2*H11 + 2*a2**2 - 2*a1*a2*T12\n",
    "    H44 = H11\n",
    "    \n",
    "    new_H = H.copy()\n",
    "    new_H[0,0] = H11\n",
    "    new_H[0,1] = T12\n",
    "    new_H[1,0] = T12\n",
    "    new_H[2,3] = T34\n",
    "    new_H[3,2] = T34\n",
    "    new_H[3,3] = H44\n",
    "    H_list.append(new_H)"
   ]
  },
  {
   "cell_type": "code",
   "execution_count": 15,
   "metadata": {},
   "outputs": [
    {
     "data": {
      "text/plain": [
       "[matrix([[ 2., -1.,  0.,  0.],\n",
       "         [-1.,  2., -1.,  0.],\n",
       "         [ 0., -1.,  2., -1.],\n",
       "         [ 0.,  0., -1.,  2.]]),\n",
       " matrix([[ 1.5297718, -0.5257311,  0.       ,  0.       ],\n",
       "         [-0.5257311,  2.       , -1.       ,  0.       ],\n",
       "         [ 0.       , -1.       ,  2.       , -0.5257311],\n",
       "         [ 0.       ,  0.       , -0.5257311,  1.5297718]]),\n",
       " matrix([[ 1.1895115, -0.5257311,  0.       ,  0.       ],\n",
       "         [-0.5257311,  2.       , -1.       ,  0.       ],\n",
       "         [ 0.       , -1.       ,  2.       , -0.5257311],\n",
       "         [ 0.       ,  0.       , -0.5257311,  1.1895115]]),\n",
       " matrix([[ 0.9432968, -0.5257311,  0.       ,  0.       ],\n",
       "         [-0.5257311,  2.       , -1.       ,  0.       ],\n",
       "         [ 0.       , -1.       ,  2.       , -0.5257311],\n",
       "         [ 0.       ,  0.       , -0.5257311,  0.9432968]]),\n",
       " matrix([[ 0.7651342, -0.5257311,  0.       ,  0.       ],\n",
       "         [-0.5257311,  2.       , -1.       ,  0.       ],\n",
       "         [ 0.       , -1.       ,  2.       , -0.5257311],\n",
       "         [ 0.       ,  0.       , -0.5257311,  0.7651342]]),\n",
       " matrix([[ 0.6362145, -0.5257311,  0.       ,  0.       ],\n",
       "         [-0.5257311,  2.       , -1.       ,  0.       ],\n",
       "         [ 0.       , -1.       ,  2.       , -0.5257311],\n",
       "         [ 0.       ,  0.       , -0.5257311,  0.6362145]]),\n",
       " matrix([[ 0.5429273, -0.5257311,  0.       ,  0.       ],\n",
       "         [-0.5257311,  2.       , -1.       ,  0.       ],\n",
       "         [ 0.       , -1.       ,  2.       , -0.5257311],\n",
       "         [ 0.       ,  0.       , -0.5257311,  0.5429273]]),\n",
       " matrix([[ 0.4754241, -0.5257311,  0.       ,  0.       ],\n",
       "         [-0.5257311,  2.       , -1.       ,  0.       ],\n",
       "         [ 0.       , -1.       ,  2.       , -0.5257311],\n",
       "         [ 0.       ,  0.       , -0.5257311,  0.4754241]]),\n",
       " matrix([[ 0.4265783, -0.5257311,  0.       ,  0.       ],\n",
       "         [-0.5257311,  2.       , -1.       ,  0.       ],\n",
       "         [ 0.       , -1.       ,  2.       , -0.5257311],\n",
       "         [ 0.       ,  0.       , -0.5257311,  0.4265783]]),\n",
       " matrix([[ 0.3912332, -0.5257311,  0.       ,  0.       ],\n",
       "         [-0.5257311,  2.       , -1.       ,  0.       ],\n",
       "         [ 0.       , -1.       ,  2.       , -0.5257311],\n",
       "         [ 0.       ,  0.       , -0.5257311,  0.3912332]]),\n",
       " matrix([[ 0.3656572, -0.5257311,  0.       ,  0.       ],\n",
       "         [-0.5257311,  2.       , -1.       ,  0.       ],\n",
       "         [ 0.       , -1.       ,  2.       , -0.5257311],\n",
       "         [ 0.       ,  0.       , -0.5257311,  0.3656572]]),\n",
       " matrix([[ 0.3471502, -0.5257311,  0.       ,  0.       ],\n",
       "         [-0.5257311,  2.       , -1.       ,  0.       ],\n",
       "         [ 0.       , -1.       ,  2.       , -0.5257311],\n",
       "         [ 0.       ,  0.       , -0.5257311,  0.3471502]]),\n",
       " matrix([[ 0.3337585, -0.5257311,  0.       ,  0.       ],\n",
       "         [-0.5257311,  2.       , -1.       ,  0.       ],\n",
       "         [ 0.       , -1.       ,  2.       , -0.5257311],\n",
       "         [ 0.       ,  0.       , -0.5257311,  0.3337585]]),\n",
       " matrix([[ 0.3240681, -0.5257311,  0.       ,  0.       ],\n",
       "         [-0.5257311,  2.       , -1.       ,  0.       ],\n",
       "         [ 0.       , -1.       ,  2.       , -0.5257311],\n",
       "         [ 0.       ,  0.       , -0.5257311,  0.3240681]]),\n",
       " matrix([[ 0.3170561, -0.5257311,  0.       ,  0.       ],\n",
       "         [-0.5257311,  2.       , -1.       ,  0.       ],\n",
       "         [ 0.       , -1.       ,  2.       , -0.5257311],\n",
       "         [ 0.       ,  0.       , -0.5257311,  0.3170561]]),\n",
       " matrix([[ 0.3119821, -0.5257311,  0.       ,  0.       ],\n",
       "         [-0.5257311,  2.       , -1.       ,  0.       ],\n",
       "         [ 0.       , -1.       ,  2.       , -0.5257311],\n",
       "         [ 0.       ,  0.       , -0.5257311,  0.3119821]]),\n",
       " matrix([[ 0.3083106, -0.5257311,  0.       ,  0.       ],\n",
       "         [-0.5257311,  2.       , -1.       ,  0.       ],\n",
       "         [ 0.       , -1.       ,  2.       , -0.5257311],\n",
       "         [ 0.       ,  0.       , -0.5257311,  0.3083106]]),\n",
       " matrix([[ 0.3056538, -0.5257311,  0.       ,  0.       ],\n",
       "         [-0.5257311,  2.       , -1.       ,  0.       ],\n",
       "         [ 0.       , -1.       ,  2.       , -0.5257311],\n",
       "         [ 0.       ,  0.       , -0.5257311,  0.3056538]]),\n",
       " matrix([[ 0.3037314, -0.5257311,  0.       ,  0.       ],\n",
       "         [-0.5257311,  2.       , -1.       ,  0.       ],\n",
       "         [ 0.       , -1.       ,  2.       , -0.5257311],\n",
       "         [ 0.       ,  0.       , -0.5257311,  0.3037314]]),\n",
       " matrix([[ 0.3023403, -0.5257311,  0.       ,  0.       ],\n",
       "         [-0.5257311,  2.       , -1.       ,  0.       ],\n",
       "         [ 0.       , -1.       ,  2.       , -0.5257311],\n",
       "         [ 0.       ,  0.       , -0.5257311,  0.3023403]]),\n",
       " matrix([[ 0.3013337, -0.5257311,  0.       ,  0.       ],\n",
       "         [-0.5257311,  2.       , -1.       ,  0.       ],\n",
       "         [ 0.       , -1.       ,  2.       , -0.5257311],\n",
       "         [ 0.       ,  0.       , -0.5257311,  0.3013337]])]"
      ]
     },
     "execution_count": 15,
     "metadata": {},
     "output_type": "execute_result"
    }
   ],
   "source": [
    "H_list"
   ]
  },
  {
   "cell_type": "code",
   "execution_count": null,
   "metadata": {},
   "outputs": [],
   "source": [
    "\n"
   ]
  },
  {
   "cell_type": "markdown",
   "metadata": {},
   "source": [
    "First step"
   ]
  },
  {
   "cell_type": "code",
   "execution_count": null,
   "metadata": {},
   "outputs": [],
   "source": []
  },
  {
   "cell_type": "code",
   "execution_count": null,
   "metadata": {},
   "outputs": [],
   "source": []
  }
 ],
 "metadata": {
  "kernelspec": {
   "display_name": "Python 3",
   "language": "python",
   "name": "python3"
  },
  "language_info": {
   "codemirror_mode": {
    "name": "ipython",
    "version": 3
   },
   "file_extension": ".py",
   "mimetype": "text/x-python",
   "name": "python",
   "nbconvert_exporter": "python",
   "pygments_lexer": "ipython3",
   "version": "3.7.6"
  }
 },
 "nbformat": 4,
 "nbformat_minor": 4
}
