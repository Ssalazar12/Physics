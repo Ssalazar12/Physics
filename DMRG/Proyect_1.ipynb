{
 "cells": [
  {
   "cell_type": "markdown",
   "metadata": {},
   "source": [
    "# Proyect 1: DMRG and Particle in a Box\n",
    "\n",
    "### To do:\n",
    "1. Sort the eigen values correctly\n",
    "2. create the basis generation funciton using itertools\n",
    "3. figure out why the psi_ij matrix does not match"
   ]
  },
  {
   "cell_type": "code",
   "execution_count": 1,
   "metadata": {},
   "outputs": [],
   "source": [
    "import numpy as np\n",
    "import scipy.linalg as la\n",
    "from itertools import combinations, combinations_with_replacement\n"
   ]
  },
  {
   "cell_type": "markdown",
   "metadata": {},
   "source": [
    "### 1 Density matrix computation\n",
    "\n",
    "steps:\n",
    "\n",
    "    1. Define Hamiltonian\n",
    "    2. Choose system size and find the basis\n",
    "    4. Compute the matrix elements\n",
    "    5. Diagonalize the matrix\n",
    "    6. Write Down the ground state as a matrix\n",
    "    7. Compute the density matrix via matrix multiplication\n",
    "\n",
    "### b) L = 4\n",
    "\n",
    "Idea: Use the operators in matrix form to make the calculations"
   ]
  },
  {
   "cell_type": "code",
   "execution_count": 2,
   "metadata": {},
   "outputs": [],
   "source": [
    "# definition of the operators\n",
    "s_up = np.asarray([[0,1],[0,0]])\n",
    "s_down = np.asarray([[0,0],[1,0]])\n",
    "s_z = np.asarray([[1/2,0],[0,-1/2]])\n"
   ]
  },
  {
   "cell_type": "code",
   "execution_count": 3,
   "metadata": {},
   "outputs": [],
   "source": [
    "def apply_operator(current_operator, next_operator,spin_chain, position):\n",
    "    # applies the specified operators to the current and next place in the chain\n",
    "    # args-> current_operator, next_operator: matrices representing the action on the current and \n",
    "    #        the next lattice site\n",
    "    #         spin_chain: list of lists representing a basis vecotr\n",
    "    #         position: index indicating the current position of the lattice\n",
    "    # returns the transoformed spin chain\n",
    "    spins_f = spin_chain.copy()\n",
    "    # matrix multiplication only in the correct position of the basis vector\n",
    "    spins_f[position] = list(np.matmul(current_operator,spin_chain[position]))\n",
    "    spins_f[position+1] = list(np.matmul(next_operator,spin_chain[position+1]))    \n",
    "    \n",
    "    return spins_f\n",
    "\n",
    "def calculate_matrix_term(spin_bra, spin_ket):\n",
    "    # applies the heisenberg hamiltonian to each lattice site, for the hesinberg hamiltonian\n",
    "    # we have 3 terms for each site.\n",
    "    # args-> spin_bra: a list of lists representing the bra basis vector,\n",
    "    #        spin_ket: a list of lists representing the ket basis vector\n",
    "    # returns the matrix element as a number\n",
    "    \n",
    "    # save the spin chains just in case we need them latter\n",
    "    sz_term = []\n",
    "    # ket acted upon by first ladder operator product\n",
    "    first_ladder = []\n",
    "    # ket acted upon by second ladder operator product\n",
    "    second_ladder = []\n",
    "    eigen_values = []\n",
    "    for i in range(0,len(spin_ket)-1):\n",
    "        #Sz operator term\n",
    "        transformed_spins = apply_operator(s_z,s_z,spin_ket,i)\n",
    "        sz_term.append(transformed_spins)\n",
    "\n",
    "        # First ladder operator term \n",
    "        transformed_spins = apply_operator(s_up,s_down,spin_ket,i)\n",
    "        first_ladder.append(transformed_spins)\n",
    "\n",
    "        # second ladder operator term\n",
    "        transformed_spins = apply_operator(s_down,s_up,spin_ket,i)\n",
    "        second_ladder.append(transformed_spins)\n",
    "\n",
    "        # now we take the inner product with the basis Bra\n",
    "        # to represent the inner product, sum the rows and then multiply all the elements to get the eigen value\n",
    "        bracket = np.multiply(spin_bra,sz_term[i])\n",
    "        eigen_values.append(np.prod(bracket.sum(1)))\n",
    "        \n",
    "        # remember that ladder operator terms have a 1/2 in front of them\n",
    "        bracket = np.multiply(spin_bra,first_ladder[i])\n",
    "        eigen_values.append(0.5*np.prod(bracket.sum(1)))\n",
    "\n",
    "        bracket = np.multiply(spin_bra,second_ladder[i])\n",
    "        eigen_values.append(0.5*np.prod(bracket.sum(1)))\n",
    "\n",
    "\n",
    "    return np.sum(eigen_values)\n",
    "\n"
   ]
  },
  {
   "cell_type": "markdown",
   "metadata": {},
   "source": [
    "Now we have to calculate all the matrix elements for the ground state part of the Hamiltonian. The ground state\n",
    "is given by all the configurations corresponding to S=0"
   ]
  },
  {
   "cell_type": "code",
   "execution_count": 4,
   "metadata": {},
   "outputs": [],
   "source": [
    "# Defining the ground state basis\n",
    "basis_1 = [[1,0],[1,0], [0,1], [0,1]]\n",
    "basis_2 = [[1,0],[0,1], [1,0], [0,1]]\n",
    "basis_3 = [[1,0],[0,1], [0,1], [1,0]]\n",
    "basis_4 = [[0,1],[1,0], [1,0], [0,1]]\n",
    "basis_5 = [[0,1],[1,0], [0,1], [1,0]]\n",
    "basis_6 = [[0,1],[0,1], [1,0], [1,0]]\n",
    "\n",
    "basis_list = [ basis_1, basis_2, basis_3, basis_4, basis_5, basis_6]\n"
   ]
  },
  {
   "cell_type": "code",
   "execution_count": 25,
   "metadata": {},
   "outputs": [
    {
     "data": {
      "text/plain": [
       "array([[ 0.25,  0.5 ,  0.  ,  0.  ,  0.  ,  0.  ],\n",
       "       [ 0.5 , -0.75,  0.5 ,  0.5 ,  0.  ,  0.  ],\n",
       "       [ 0.  ,  0.5 , -0.25,  0.  ,  0.5 ,  0.  ],\n",
       "       [ 0.  ,  0.5 ,  0.  , -0.25,  0.5 ,  0.  ],\n",
       "       [ 0.  ,  0.  ,  0.5 ,  0.5 , -0.75,  0.5 ],\n",
       "       [ 0.  ,  0.  ,  0.  ,  0.  ,  0.5 ,  0.25]])"
      ]
     },
     "execution_count": 25,
     "metadata": {},
     "output_type": "execute_result"
    }
   ],
   "source": [
    "# calculate each matrix element by iterating over the basis list two times\n",
    "hamiltonian_matrix = np.zeros((len(basis_list), len(basis_list)))\n",
    "# columns iteration\n",
    "for i in range(len(basis_list)):\n",
    "    # row iteration\n",
    "    for j in range(len(basis_list)):\n",
    "        hamiltonian_matrix[j,i] = calculate_matrix_term(basis_list[j],basis_list[i])\n",
    "\n",
    "hamiltonian_matrix"
   ]
  },
  {
   "cell_type": "code",
   "execution_count": 32,
   "metadata": {},
   "outputs": [
    {
     "name": "stdout",
     "output_type": "stream",
     "text": [
      "Eigenvalues for the groundstate block\n",
      "[-1.6160254 +0.j -0.95710678+0.j  0.1160254 +0.j  0.75      +0.j\n",
      "  0.45710678+0.j -0.25      +0.j]\n"
     ]
    }
   ],
   "source": [
    "# matrix diagonalization\n",
    "# .eig returns a tuple of vectors\n",
    "g_eigenvalues, g_eigenvectors = la.eig(np.asmatrix(hamiltonian_matrix))\n",
    "\n",
    "print(\"Eigenvalues for the groundstate block\")\n",
    "print(g_eigenvalues)\n"
   ]
  },
  {
   "cell_type": "markdown",
   "metadata": {},
   "source": [
    "Matrix product decomposition. We now calculate $\\psi_{ij}$ for the matrix representation of the ground state.\n",
    "Remember that, since ground state is always at S = 0, **the matrix elements that correspond to another value of the spin have to be set to zero**.\n",
    "\n",
    "We have to choose how to sepparate our gorund state in two systems\n",
    "## for now we do it by hand\n",
    "\n",
    "# RESARCH PYTHON PERMUTATIONS"
   ]
  },
  {
   "cell_type": "code",
   "execution_count": 33,
   "metadata": {},
   "outputs": [],
   "source": [
    "# define the two system basis\n",
    "A_1 = [[1,0],[1,0]]\n",
    "A_2 = [[1,0],[0,1]]\n",
    "A_3 = [[0,1],[1,0]]\n",
    "A_4 = [[0,1],[0,1]]\n",
    "\n",
    "A_basis = [A_1,A_2,A_3,A_4]\n",
    "B_basis = [A_1,A_2,A_3,A_4]\n",
    "# matrix belonging to the system basis\n",
    "system_mat = np.zeros((len(A_basis), len(B_basis)))\n"
   ]
  },
  {
   "cell_type": "code",
   "execution_count": 34,
   "metadata": {},
   "outputs": [
    {
     "name": "stderr",
     "output_type": "stream",
     "text": [
      "/Users/rasputin/anaconda3/lib/python3.7/site-packages/ipykernel_launcher.py:11: ComplexWarning: Casting complex values to real discards the imaginary part\n",
      "  # This is added back by InteractiveShellApp.init_path()\n"
     ]
    }
   ],
   "source": [
    "# we now calculate the ground state matrix representation\n",
    "psi_ij = np.zeros((len(A_basis), len(B_basis)))\n",
    "#rows\n",
    "for i in range(0,len(A_basis)):\n",
    "    #columns\n",
    "    for j in range(0,len(B_basis)):\n",
    "        is_in_gbasis = A_basis[j]+B_basis[i] in basis_list\n",
    "        if is_in_gbasis == True: \n",
    "            # save index of the basis vector to find the eigen value\n",
    "            eigen_index = basis_list.index(A_basis[j]+B_basis[i])\n",
    "            psi_ij[i,j] = g_eigenvalues[eigen_index]\n",
    "\n",
    "rho_reduced = np.asmatrix(psi_ij)* np.asmatrix(psi_ij).H"
   ]
  },
  {
   "cell_type": "code",
   "execution_count": 35,
   "metadata": {},
   "outputs": [
    {
     "data": {
      "text/plain": [
       "array([[ 0.        ,  0.        ,  0.        , -0.25      ],\n",
       "       [ 0.        , -0.95710678,  0.75      ,  0.        ],\n",
       "       [ 0.        ,  0.1160254 ,  0.45710678,  0.        ],\n",
       "       [-1.6160254 ,  0.        ,  0.        ,  0.        ]])"
      ]
     },
     "execution_count": 35,
     "metadata": {},
     "output_type": "execute_result"
    }
   ],
   "source": [
    "psi_ij"
   ]
  },
  {
   "cell_type": "code",
   "execution_count": 23,
   "metadata": {},
   "outputs": [
    {
     "data": {
      "text/plain": [
       "matrix([[2.61153811, 0.        , 0.        , 0.        ],\n",
       "        [0.        , 0.27144661, 0.29231269, 0.        ],\n",
       "        [0.        , 0.29231269, 0.92951528, 0.        ],\n",
       "        [0.        , 0.        , 0.        , 0.5625    ]])"
      ]
     },
     "execution_count": 23,
     "metadata": {},
     "output_type": "execute_result"
    }
   ],
   "source": [
    "rho_reduced"
   ]
  },
  {
   "cell_type": "markdown",
   "metadata": {},
   "source": [
    "Calculate the reduced density matrix via conjugate transposed"
   ]
  },
  {
   "cell_type": "markdown",
   "metadata": {},
   "source": [
    "# Create a basis generator function one day"
   ]
  },
  {
   "cell_type": "code",
   "execution_count": 24,
   "metadata": {},
   "outputs": [
    {
     "data": {
      "text/plain": [
       "(2, 2)"
      ]
     },
     "execution_count": 24,
     "metadata": {},
     "output_type": "execute_result"
    }
   ],
   "source": [
    "np.shape(A_basis[0])"
   ]
  },
  {
   "cell_type": "code",
   "execution_count": null,
   "metadata": {},
   "outputs": [],
   "source": []
  },
  {
   "cell_type": "code",
   "execution_count": 13,
   "metadata": {},
   "outputs": [
    {
     "data": {
      "text/plain": [
       "[[1, 0], [1, 0]]"
      ]
     },
     "execution_count": 13,
     "metadata": {},
     "output_type": "execute_result"
    }
   ],
   "source": [
    "B_basis[0]"
   ]
  },
  {
   "cell_type": "code",
   "execution_count": 14,
   "metadata": {},
   "outputs": [
    {
     "name": "stdout",
     "output_type": "stream",
     "text": [
      "(2, 2)\n"
     ]
    },
    {
     "data": {
      "text/plain": [
       "array([[1, 0],\n",
       "       [1, 0]])"
      ]
     },
     "execution_count": 14,
     "metadata": {},
     "output_type": "execute_result"
    }
   ],
   "source": [
    "a = np.matmul(A_basis[0],B_basis[0])\n",
    "print(np.shape(a))\n",
    "a"
   ]
  }
 ],
 "metadata": {
  "kernelspec": {
   "display_name": "Python 3",
   "language": "python",
   "name": "python3"
  },
  "language_info": {
   "codemirror_mode": {
    "name": "ipython",
    "version": 3
   },
   "file_extension": ".py",
   "mimetype": "text/x-python",
   "name": "python",
   "nbconvert_exporter": "python",
   "pygments_lexer": "ipython3",
   "version": "3.7.6"
  }
 },
 "nbformat": 4,
 "nbformat_minor": 4
}
