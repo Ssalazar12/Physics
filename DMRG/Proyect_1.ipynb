{
 "cells": [
  {
   "cell_type": "markdown",
   "metadata": {},
   "source": [
    "# Proyect 1: DMRG and Particle in a Box\n",
    "\n",
    "### To do:\n",
    "- make more graphics to analyse how the finite system alg. converges\n",
    "- the warmup phase is 2 sites too long we have to leave 2 places left make it until L-1 (in general make suer the indices for every loop are correctly limited)\n",
    "- set the matrix to hold types of float 64 for maximum precision\n",
    "- Implement a rounding protocol \n",
    "- create the basis generation function using itertools\n",
    "- Make sure that the units are ok\n",
    "- implement a cost function to meassure the error\n"
   ]
  },
  {
   "cell_type": "code",
   "execution_count": 1,
   "metadata": {},
   "outputs": [],
   "source": [
    "import numpy as np\n",
    "import scipy.linalg as la\n",
    "from itertools import combinations, combinations_with_replacement\n",
    "import matplotlib.pyplot as plt"
   ]
  },
  {
   "cell_type": "markdown",
   "metadata": {},
   "source": [
    "# 1.1 Density matrix computation\n",
    "\n",
    "steps:\n",
    "\n",
    "    1. Define Hamiltonian\n",
    "    2. Choose system size and find the basis\n",
    "    4. Compute the matrix elements\n",
    "    5. Diagonalize the matrix\n",
    "    6. Write Down the ground state as a matrix\n",
    "    7. Compute the density matrix via matrix multiplication\n",
    "\n",
    "### b) L = 4\n",
    "\n",
    "Idea: Use the operators in matrix form to make the calculations"
   ]
  },
  {
   "cell_type": "code",
   "execution_count": 2,
   "metadata": {},
   "outputs": [],
   "source": [
    "# definition of the operators\n",
    "s_up = np.asarray([[0,1],[0,0]])\n",
    "s_down = np.asarray([[0,0],[1,0]])\n",
    "s_z = np.asarray([[1/2,0],[0,-1/2]])\n"
   ]
  },
  {
   "cell_type": "code",
   "execution_count": 3,
   "metadata": {},
   "outputs": [],
   "source": [
    "def apply_operator(current_operator, next_operator,spin_chain, position):\n",
    "    # applies the specified operators to the current and next place in the chain\n",
    "    # args-> current_operator, next_operator: matrices representing the action on the current and \n",
    "    #        the next lattice site\n",
    "    #         spin_chain: list of lists representing a basis vecotr\n",
    "    #         position: index indicating the current position of the lattice\n",
    "    # returns the transoformed spin chain\n",
    "    spins_f = spin_chain.copy()\n",
    "    # matrix multiplication only in the correct position of the basis vector\n",
    "    spins_f[position] = list(np.matmul(current_operator,spin_chain[position]))\n",
    "    spins_f[position+1] = list(np.matmul(next_operator,spin_chain[position+1]))    \n",
    "    \n",
    "    return spins_f\n",
    "\n",
    "def calculate_matrix_term(spin_bra, spin_ket):\n",
    "    # applies the heisenberg hamiltonian to each lattice site, for the hesinberg hamiltonian\n",
    "    # we have 3 terms for each site.\n",
    "    # args-> spin_bra: a list of lists representing the bra basis vector,\n",
    "    #        spin_ket: a list of lists representing the ket basis vector\n",
    "    # returns the matrix element as a number\n",
    "    \n",
    "    # save the spin chains just in case we need them latter\n",
    "    sz_term = []\n",
    "    # ket acted upon by first ladder operator product\n",
    "    first_ladder = []\n",
    "    # ket acted upon by second ladder operator product\n",
    "    second_ladder = []\n",
    "    eigen_values = []\n",
    "    for i in range(0,len(spin_ket)-1):\n",
    "        #Sz operator term\n",
    "        transformed_spins = apply_operator(s_z,s_z,spin_ket,i)\n",
    "        sz_term.append(transformed_spins)\n",
    "\n",
    "        # First ladder operator term \n",
    "        transformed_spins = apply_operator(s_up,s_down,spin_ket,i)\n",
    "        first_ladder.append(transformed_spins)\n",
    "\n",
    "        # second ladder operator term\n",
    "        transformed_spins = apply_operator(s_down,s_up,spin_ket,i)\n",
    "        second_ladder.append(transformed_spins)\n",
    "\n",
    "        # now we take the inner product with the basis Bra\n",
    "        # to represent the inner product, sum the rows and then multiply all the elements to get the eigen value\n",
    "        bracket = np.multiply(spin_bra,sz_term[i])\n",
    "        eigen_values.append(np.prod(bracket.sum(1)))\n",
    "        \n",
    "        # remember that ladder operator terms have a 1/2 in front of them\n",
    "        bracket = np.multiply(spin_bra,first_ladder[i])\n",
    "        eigen_values.append(0.5*np.prod(bracket.sum(1)))\n",
    "\n",
    "        bracket = np.multiply(spin_bra,second_ladder[i])\n",
    "        eigen_values.append(0.5*np.prod(bracket.sum(1)))\n",
    "\n",
    "    return np.sum(eigen_values)\n",
    "\n"
   ]
  },
  {
   "cell_type": "markdown",
   "metadata": {},
   "source": [
    "Now we have to calculate all the matrix elements for the ground state part of the Hamiltonian. The ground state\n",
    "is given by all the configurations corresponding to S=0"
   ]
  },
  {
   "cell_type": "code",
   "execution_count": 4,
   "metadata": {},
   "outputs": [],
   "source": [
    "# Defining the ground state basis\n",
    "basis_1 = [[1,0],[1,0], [0,1], [0,1]]\n",
    "basis_2 = [[1,0],[0,1], [1,0], [0,1]]\n",
    "basis_3 = [[1,0],[0,1], [0,1], [1,0]]\n",
    "basis_4 = [[0,1],[1,0], [1,0], [0,1]]\n",
    "basis_5 = [[0,1],[1,0], [0,1], [1,0]]\n",
    "basis_6 = [[0,1],[0,1], [1,0], [1,0]]\n",
    "\n",
    "basis_list = [ basis_1, basis_2, basis_3, basis_4, basis_5, basis_6]\n"
   ]
  },
  {
   "cell_type": "code",
   "execution_count": 5,
   "metadata": {},
   "outputs": [
    {
     "data": {
      "text/plain": [
       "array([[ 0.25,  0.5 ,  0.  ,  0.  ,  0.  ,  0.  ],\n",
       "       [ 0.5 , -0.75,  0.5 ,  0.5 ,  0.  ,  0.  ],\n",
       "       [ 0.  ,  0.5 , -0.25,  0.  ,  0.5 ,  0.  ],\n",
       "       [ 0.  ,  0.5 ,  0.  , -0.25,  0.5 ,  0.  ],\n",
       "       [ 0.  ,  0.  ,  0.5 ,  0.5 , -0.75,  0.5 ],\n",
       "       [ 0.  ,  0.  ,  0.  ,  0.  ,  0.5 ,  0.25]])"
      ]
     },
     "execution_count": 5,
     "metadata": {},
     "output_type": "execute_result"
    }
   ],
   "source": [
    "# calculate each matrix element by iterating over the basis list two times\n",
    "hamiltonian_matrix = np.zeros((len(basis_list), len(basis_list)))\n",
    "# columns iteration\n",
    "for i in range(len(basis_list)):\n",
    "    # row iteration\n",
    "    for j in range(len(basis_list)):\n",
    "        hamiltonian_matrix[j,i] = calculate_matrix_term(basis_list[j],basis_list[i])\n",
    "\n",
    "hamiltonian_matrix"
   ]
  },
  {
   "cell_type": "code",
   "execution_count": 6,
   "metadata": {},
   "outputs": [
    {
     "name": "stdout",
     "output_type": "stream",
     "text": [
      "Eigenvalues for the groundstate block\n",
      "[-1.6160254 +0.j -0.95710678+0.j  0.1160254 +0.j  0.75      +0.j\n",
      "  0.45710678+0.j -0.25      +0.j]\n",
      "\n",
      "chosen eigenvalue\n",
      "(-1.6160254037844373+0j)\n",
      "\n",
      "chosen eigenvector\n",
      "[ 0.14942925 -0.55767754  0.40824829  0.40824829 -0.55767754  0.14942925]\n"
     ]
    }
   ],
   "source": [
    "# matrix diagonalization\n",
    "# .eig returns a tuple of vectors\n",
    "g_eigenvalues, g_eigenvectors = la.eig(np.asmatrix(hamiltonian_matrix))\n",
    "# save the lowest eigenvalue and eigenvector which represent the ground state\n",
    "ground_index = g_eigenvalues.argmin()\n",
    "\n",
    "print(\"Eigenvalues for the groundstate block\")\n",
    "print(g_eigenvalues)\n",
    "print()\n",
    "\n",
    "# We now choose the lowest eigen value since it corresponds to the ground state\n",
    "print(\"chosen eigenvalue\")\n",
    "print(g_eigenvalues[ground_index])\n",
    "print()\n",
    "print(\"chosen eigenvector\")\n",
    "print(g_eigenvectors[:,ground_index])\n",
    "chosen_eigenvector = g_eigenvectors[:,ground_index]"
   ]
  },
  {
   "cell_type": "markdown",
   "metadata": {},
   "source": [
    "Matrix decomposition. We now calculate $\\psi_{ij}$ for the matrix representation of the ground state.\n",
    "Remember that, since ground state is always at S = 0, **the matrix elements that correspond to another value of the spin have to be set to zero**.\n",
    "\n",
    "We have to choose how to sepparate our gorund state in two systems.\n",
    "\n",
    "We will use the eigen vector with the highest eigen values, since the rest of them tend to be very small\n",
    "\n",
    "## for now we do it by hand\n",
    "\n",
    "# RESARCH PYTHON PERMUTATIONS"
   ]
  },
  {
   "cell_type": "code",
   "execution_count": 7,
   "metadata": {},
   "outputs": [],
   "source": [
    "# define the two system basis\n",
    "A_1 = [[1,0],[1,0]]\n",
    "A_2 = [[1,0],[0,1]]\n",
    "A_3 = [[0,1],[1,0]]\n",
    "A_4 = [[0,1],[0,1]]\n",
    "\n",
    "A_basis = [A_1,A_2,A_3,A_4]\n",
    "B_basis = [A_1,A_2,A_3,A_4]\n"
   ]
  },
  {
   "cell_type": "code",
   "execution_count": 8,
   "metadata": {},
   "outputs": [],
   "source": [
    "# we now calculate the ground state matrix representation\n",
    "psi_ij = np.zeros((len(A_basis), len(B_basis)))\n",
    "#rows\n",
    "for i in range(0,len(A_basis)):\n",
    "    #columns\n",
    "    for j in range(0,len(B_basis)):\n",
    "        is_in_gbasis = A_basis[j]+B_basis[i] in basis_list\n",
    "        if is_in_gbasis == True: \n",
    "            # save index of the basis vector to find the eigen value\n",
    "            eigen_index = basis_list.index(A_basis[j]+B_basis[i])\n",
    "            psi_ij[i,j] = chosen_eigenvector[eigen_index]\n",
    "\n",
    "rho_reduced = np.asmatrix(psi_ij)* np.asmatrix(psi_ij).H"
   ]
  },
  {
   "cell_type": "code",
   "execution_count": 9,
   "metadata": {},
   "outputs": [
    {
     "data": {
      "text/plain": [
       "array([[ 0.       ,  0.       ,  0.       ,  0.1494292],\n",
       "       [ 0.       , -0.5576775,  0.4082483,  0.       ],\n",
       "       [ 0.       ,  0.4082483, -0.5576775,  0.       ],\n",
       "       [ 0.1494292,  0.       ,  0.       ,  0.       ]])"
      ]
     },
     "execution_count": 9,
     "metadata": {},
     "output_type": "execute_result"
    }
   ],
   "source": [
    "np.set_printoptions(precision=7)\n",
    "psi_ij"
   ]
  },
  {
   "cell_type": "code",
   "execution_count": 10,
   "metadata": {},
   "outputs": [
    {
     "data": {
      "text/plain": [
       "matrix([[ 0.0223291,  0.       ,  0.       ,  0.       ],\n",
       "        [ 0.       ,  0.4776709, -0.4553418,  0.       ],\n",
       "        [ 0.       , -0.4553418,  0.4776709,  0.       ],\n",
       "        [ 0.       ,  0.       ,  0.       ,  0.0223291]])"
      ]
     },
     "execution_count": 10,
     "metadata": {},
     "output_type": "execute_result"
    }
   ],
   "source": [
    "rho_reduced"
   ]
  },
  {
   "cell_type": "code",
   "execution_count": 11,
   "metadata": {
    "scrolled": true
   },
   "outputs": [
    {
     "data": {
      "text/plain": [
       "0.0"
      ]
     },
     "execution_count": 11,
     "metadata": {},
     "output_type": "execute_result"
    }
   ],
   "source": [
    "rho_reduced[-1,0]"
   ]
  },
  {
   "cell_type": "code",
   "execution_count": 12,
   "metadata": {},
   "outputs": [
    {
     "data": {
      "text/plain": [
       "10"
      ]
     },
     "execution_count": 12,
     "metadata": {},
     "output_type": "execute_result"
    }
   ],
   "source": [
    "np.sum([1,2,3,4])"
   ]
  },
  {
   "cell_type": "markdown",
   "metadata": {},
   "source": [
    "Calculate the reduced density matrix via conjugate transposed"
   ]
  },
  {
   "cell_type": "markdown",
   "metadata": {},
   "source": [
    "# 1.2 DMRG for particle in a box\n"
   ]
  },
  {
   "cell_type": "code",
   "execution_count": 13,
   "metadata": {},
   "outputs": [],
   "source": [
    "def initialize_hamiltonian(size=4, periodic_boundary=False):\n",
    "    # creates the initial discretized hamiltonian\n",
    "    # size = 4 as default\n",
    "    # periodic_boundary:  if False then only periodic boundaries\n",
    "    # returns --> array representing the hamiltonian\n",
    "    \n",
    "    hamiltonian = np.asmatrix(np.zeros((size,size)))\n",
    "    np.fill_diagonal(hamiltonian, 2)\n",
    "\n",
    "    for i in range(0,size-1):\n",
    "        # fill upper diagonal\n",
    "        hamiltonian[i,i+1] = -1\n",
    "        # fill lower diagonal\n",
    "        hamiltonian[i+1,i] = -1\n",
    "    \n",
    "    # for periodc boundaries add -1s at opposite corners\n",
    "    if periodic_boundary==True:\n",
    "        hamiltonian[-1,0] = -1\n",
    "        hamiltonian[0,-1] = -1     \n",
    "     \n",
    "    return hamiltonian\n",
    "\n",
    "def update_hamiltonian(current_H, new_t12, new_h11, new_t34, new_h44):\n",
    "    # updates the block hamiltonian to include the new matrix elements of the new basis\n",
    "    # assumes that we have reflection symmetry so only 2 elements are needed\n",
    "    # args---> current_H: Matrix representing the block hamiltonian from the last step\n",
    "    #       new_t12, new_h11: scalars representing H11 and T12 matrix elements on the new basis, \n",
    "    # returns---> new_H: Matrix representing the new hamiltonian\n",
    "    \n",
    "    # System\n",
    "    new_H = current_H.copy()\n",
    "    new_H[0,0] = new_h11\n",
    "    new_H[0,1] = new_t12\n",
    "    new_H[1,0] = new_t12\n",
    "    # environment\n",
    "    new_H[2,3] = new_t34\n",
    "    new_H[3,2] = new_t34\n",
    "    new_H[3,3] = new_h44\n",
    "    \n",
    "    return new_H\n",
    "\n",
    "def find_ground_state(hamiltonian):\n",
    "    # diagonalize and get the ground state energy and vector\n",
    "    # args--> hamiltonian: matrix to diagonalize\n",
    "    # returns --> ground_state eigen value as scalar and ground state eigen vector as array\n",
    "    eigen_values, eigen_vectors = la.eig(np.asmatrix(hamiltonian))\n",
    "    ground_index = eigen_values.argmin()\n",
    "    E_ground_state = np.real(eigen_values[ground_index])\n",
    "    psi_ground_state = eigen_vectors[:,ground_index]\n",
    "    \n",
    "    if np.sum(psi_ground_state) < 0:\n",
    "        psi_ground_state = np.multiply(psi_ground_state,-1)\n",
    "    \n",
    "    return np.real(E_ground_state), psi_ground_state\n",
    "\n",
    "def update_basis(psi, H_bloc, Tblock ,is_right=False):\n",
    "    # performs the basis projection to update superblock hamiltonian according to right or left block\n",
    "    # args-> psi: array for ground state wave function. \n",
    "    #        H_block, Tblock: number representing the blocks that we want to update, if is_right=True\n",
    "    #               they corrspond to environment, else they correspond to the system        \n",
    "    #       is_right: Boolean,indicates wether right or left block\n",
    "    # returns---> Hnew, Tnew, scalars representing the new components of the superblock\n",
    "    \n",
    "    # indices for the projection corresponding to the type of block\n",
    "    first_index = 0\n",
    "    second_index = 0\n",
    "    new_basis = 0\n",
    "    \n",
    "    # if right block we take the last two indices\n",
    "    if is_right:\n",
    "        first_index = 2\n",
    "        second_index = 3\n",
    "        # normalize\n",
    "        new_basis = 1.0/np.sqrt(psi[first_index]**2 + psi[second_index]**2) * \\\n",
    "                                    np.asmatrix([psi[first_index],psi[second_index]])\n",
    "        a1 = new_basis[0,0]\n",
    "        # note that a2 is the updated wave function at site i+1\n",
    "        a2 = new_basis[0,1]\n",
    "        # calculate the new blocks\n",
    "        Hnew = (a2**2)*H_bloc + 2*(a1**2) + 2*a1*a2*Tblock\n",
    "        Tnew = -a1\n",
    "    \n",
    "    else:\n",
    "        first_index = 0\n",
    "        second_index = 1\n",
    "        # normalize\n",
    "        new_basis = 1.0/np.sqrt(psi[first_index]**2 + psi[second_index]**2) * \\\n",
    "                                    np.asmatrix([psi[first_index],psi[second_index]])\n",
    "        a1 = new_basis[0,0]\n",
    "        # note that a2 is the updated wave function at site i+1\n",
    "        a2 = new_basis[0,1]\n",
    "        # calculate the new blocks\n",
    "        Hnew = (a1**2)*H_bloc + 2*(a2**2) + 2*a1*a2*Tblock\n",
    "        Tnew = -a2\n",
    "    \n",
    "    return Hnew, Tnew\n",
    "\n",
    "def error_function(true_value, calculated_value):\n",
    "    # return the squared error between true_value and calculated_value\n",
    "    # args--> true_value, calculated_value: scalars\n",
    "    return np.abs(calculated_value - true_value)**2"
   ]
  },
  {
   "cell_type": "markdown",
   "metadata": {},
   "source": [
    "### c) Exact Diagonalization of Disctretized Hamiltonian\n",
    "\n",
    "We now compute the exact ground state for systems of increasing sizes. We do this by diagonalizing the discretized hamiltonian"
   ]
  },
  {
   "cell_type": "code",
   "execution_count": 14,
   "metadata": {},
   "outputs": [],
   "source": [
    "sistem_sizes = [16,32,64,100,128,256,512,1024]\n",
    "# arrays for open boundaries\n",
    "open_energies = []\n",
    "open_states = []\n",
    "# arrays for periodic boundaries\n",
    "periodic_energies = []\n",
    "periodic_states = []\n",
    "\n",
    "for i in range(0,len(sistem_sizes)):\n",
    "    # first for open boundary conditions\n",
    "    h_open = initialize_hamiltonian(sistem_sizes[i])\n",
    "    # now for periodic boundary conditions\n",
    "    h_periodic = initialize_hamiltonian(sistem_sizes[i],periodic_boundary=True)\n",
    "    # diagonalize the Hamiltonian and find ground state for both boundaries\n",
    "    e_open, psi_open = find_ground_state(h_open)\n",
    "    open_energies.append(e_open)\n",
    "    open_states.append(psi_open)\n",
    "    \n",
    "    e_per, psi_per = find_ground_state(h_periodic)\n",
    "    periodic_energies.append(e_per)\n",
    "    periodic_states.append(psi_per)\n"
   ]
  },
  {
   "cell_type": "code",
   "execution_count": 15,
   "metadata": {},
   "outputs": [
    {
     "data": {
      "text/plain": [
       "<matplotlib.collections.PathCollection at 0x7fe639b47490>"
      ]
     },
     "execution_count": 15,
     "metadata": {},
     "output_type": "execute_result"
    },
    {
     "data": {
      "image/png": "[encoded data removed]",
      "text/plain": [
       "<Figure size 540x396 with 1 Axes>"
      ]
     },
     "metadata": {
      "needs_background": "light"
     },
     "output_type": "display_data"
    },
    {
     "data": {
      "image/png": "[encoded data removed]",
      "text/plain": [
       "<Figure size 540x396 with 1 Axes>"
      ]
     },
     "metadata": {
      "needs_background": "light"
     },
     "output_type": "display_data"
    }
   ],
   "source": [
    "# ground state energy\n",
    "plt.figure(figsize=(7.5,5.5))\n",
    "plt.title(\"Ground State enery for Open Boundary Conditions\")\n",
    "plt.scatter(sistem_sizes,open_energies)\n",
    "\n",
    "# ground state energy\n",
    "plt.figure(figsize=(7.5,5.5))\n",
    "plt.title(\"Ground State enery for Periodic Boundary Conditions\")\n",
    "plt.scatter(sistem_sizes,periodic_energies)"
   ]
  },
  {
   "cell_type": "markdown",
   "metadata": {},
   "source": [
    "### e) DMRG for particle in  a box\n",
    "\n",
    "\n",
    "**Warmup Phase**\n",
    "\n",
    "For a system with L sites, start by using a system of $L^´= 4$ and grow it until it reaches full size. Since this system has reflection \n",
    "symmetry we can take it up to $L^´= L/2$. Remember that the idea is to diagonalize 4x4 matrices always.\n",
    "\n"
   ]
  },
  {
   "cell_type": "code",
   "execution_count": 16,
   "metadata": {},
   "outputs": [],
   "source": [
    "# System size definition\n",
    "L = 100\n",
    "# vectors that save effective hamiltonians\n",
    "H_list = list(np.zeros(L)) # superblock hamiltonian\n",
    "system_blocks = list(np.zeros(L))\n",
    "site_blocks = list(np.zeros(L))\n",
    "\n",
    "# save ground state energies\n",
    "E_list = []\n",
    "\n",
    "# initialize the hamiltonian for the warmup phase\n",
    "H = initialize_hamiltonian()\n",
    "# initialize the blocks we only neew 2 since we have reflection symmetry\n",
    "H11 = 2.0\n",
    "T12 = -1.0\n",
    "    \n",
    "for i in range(0,int(L/2)):\n",
    "    # diagonalize and get the ground state energy and vector\n",
    "    E_ground, psi_ground = find_ground_state(H)\n",
    "    H11, T12 = update_basis(psi_ground, H11, T12 ,is_right=False)\n",
    "    \n",
    "    # update the hamiltonian and get the next site hamiltonian\n",
    "    H = update_hamiltonian(H, T12, H11, T12, H11)\n",
    "    \n",
    "    # save the effective hamiltonians\n",
    "    H_list[i] = H\n",
    "    system_blocks[i] = H[0,0]\n",
    "    site_blocks[i] = H[0,1]\n",
    "    \n",
    "    E_list.append(E_ground)\n",
    "    \n",
    "# we can now reflect the right blocks to put them in the correct order\n",
    "system_blocks[int(L/2):] = np.flip(system_blocks[:int(L/2)])\n",
    "site_blocks[int(L/2):] = np.flip(site_blocks[:int(L/2)])\n",
    "\n",
    "all_h = system_blocks\n",
    "all_t = site_blocks"
   ]
  },
  {
   "cell_type": "code",
   "execution_count": 17,
   "metadata": {},
   "outputs": [
    {
     "name": "stdout",
     "output_type": "stream",
     "text": [
      "0.0026153797367574156\n"
     ]
    },
    {
     "data": {
      "text/plain": [
       "[<matplotlib.lines.Line2D at 0x7fe63b0a2dd0>]"
      ]
     },
     "execution_count": 17,
     "metadata": {},
     "output_type": "execute_result"
    },
    {
     "data": {
      "image/png": "[encoded data removed]",
      "text/plain": [
       "<Figure size 540x360 with 1 Axes>"
      ]
     },
     "metadata": {
      "needs_background": "light"
     },
     "output_type": "display_data"
    }
   ],
   "source": [
    "print(E_list[-1])\n",
    "plt.figure(figsize=(7.5,5))\n",
    "plt.title(\"Ground State Energy\")\n",
    "plt.plot(E_list)\n"
   ]
  },
  {
   "cell_type": "code",
   "execution_count": 18,
   "metadata": {},
   "outputs": [
    {
     "data": {
      "text/plain": [
       "<matplotlib.collections.PathCollection at 0x7fe63b0a2d50>"
      ]
     },
     "execution_count": 18,
     "metadata": {},
     "output_type": "execute_result"
    },
    {
     "data": {
      "image/png": "[encoded data removed]",
      "text/plain": [
       "<Figure size 576x324 with 1 Axes>"
      ]
     },
     "metadata": {
      "needs_background": "light"
     },
     "output_type": "display_data"
    },
    {
     "data": {
      "image/png": "[encoded data removed]",
      "text/plain": [
       "<Figure size 576x324 with 1 Axes>"
      ]
     },
     "metadata": {
      "needs_background": "light"
     },
     "output_type": "display_data"
    }
   ],
   "source": [
    "Lspace = np.linspace(0,100,100)\n",
    "psi_infinite = np.asarray(all_t)\n",
    "\n",
    "plt.figure(figsize=(8,4.5))\n",
    "plt.title(\"$\\psi(x)$\")\n",
    "plt.scatter(Lspace, psi_infinite)\n",
    "plt.figure(figsize=(8,4.5))\n",
    "plt.title(\"$\\psi(x)^2$\")\n",
    "plt.scatter(Lspace,np.power(psi_infinite,2))"
   ]
  },
  {
   "cell_type": "markdown",
   "metadata": {},
   "source": [
    "**Finite Algorithm Phase**"
   ]
  },
  {
   "cell_type": "code",
   "execution_count": 19,
   "metadata": {},
   "outputs": [
    {
     "name": "stdout",
     "output_type": "stream",
     "text": [
      "0\n",
      "1\n",
      "2\n",
      "3\n",
      "4\n",
      "5\n",
      "6\n",
      "7\n",
      "8\n",
      "9\n"
     ]
    }
   ],
   "source": [
    "# number of sweeps\n",
    "N_sweeps = 5\n",
    "H_super = initialize_hamiltonian()\n",
    "Exact_E = 0.000967435\n",
    "\n",
    "for i in range(0,10):\n",
    "    print(i)"
   ]
  },
  {
   "cell_type": "code",
   "execution_count": 20,
   "metadata": {},
   "outputs": [],
   "source": [
    "# save the finite system data for comparisson\n",
    "sweep_h = all_h\n",
    "sweep_t = all_t\n",
    "sweep_energies =[]\n",
    "sweep_psi = []\n",
    "ws = []\n",
    "hs = []\n",
    "# one sweeps is right to left and left to right\n",
    "for k in range(0, N_sweeps):\n",
    "    # apply reflection symmetry\n",
    "    sweep_h[int(L/2)+1:] = np.flip(sweep_h[:int(L/2)-2])\n",
    "    sweep_t[int(L/2)+1:] = np.flip(sweep_t[:int(L/2)-2])\n",
    "    \n",
    "    sweep_psi.append(sweep_t)\n",
    "    \n",
    "    # right to left\n",
    "    for i in range(int(L/2)+1,2,-1):\n",
    "    #for i in range(L-1,2,-1):\n",
    "        # form the superblock H starting from the middle and sweeping to the left \n",
    "        H_super = update_hamiltonian(H_super, sweep_t[i-3], sweep_h[i-3], sweep_t[i], sweep_h[i])\n",
    "        # find ground state and update bassi for the RIGHT block\n",
    "        E_ground, psi_ground = find_ground_state(H_super)\n",
    "        H44, T34 = update_basis(psi_ground, H_super[3,3], H_super[2,3] ,is_right=True)\n",
    "\n",
    "        # update the chain\n",
    "        sweep_h[i-1] = H44\n",
    "        sweep_t[i-1] = T34\n",
    "        \n",
    "        hs.append(H44)\n",
    "        ws.append(T34)\n",
    "\n",
    "    # left to right\n",
    "    for i in range(0, int(L/2)-2):\n",
    "        # form the superblock H starting from the middle and sweeping to the left    \n",
    "        H_super = update_hamiltonian(H_super, sweep_t[i], sweep_h[i], sweep_t[i+3], sweep_h[i+3])\n",
    "        # find ground state and update basis for the RIGHT block\n",
    "        E_ground, psi_ground = find_ground_state(H_super)\n",
    "        H11, T12 = update_basis(psi_ground, H_super[0,0], H_super[0,1] ,is_right=False)\n",
    "\n",
    "        # update the chain\n",
    "        sweep_h[i+1] = H11\n",
    "        sweep_t[i+1] = T12\n",
    "        \n",
    "        hs.append(H11)\n",
    "        ws.append(T12)\n",
    "\n",
    "    # append the energies after one sweep    \n",
    "    sweep_energies.append(E_ground)\n"
   ]
  },
  {
   "cell_type": "code",
   "execution_count": 21,
   "metadata": {},
   "outputs": [
    {
     "data": {
      "text/plain": [
       "[<matplotlib.lines.Line2D at 0x7fe63bdc2d90>]"
      ]
     },
     "execution_count": 21,
     "metadata": {},
     "output_type": "execute_result"
    },
    {
     "data": {
      "image/png": "[encoded data removed]",
      "text/plain": [
       "<Figure size 432x288 with 1 Axes>"
      ]
     },
     "metadata": {
      "needs_background": "light"
     },
     "output_type": "display_data"
    },
    {
     "data": {
      "image/png": "[encoded data removed]",
      "text/plain": [
       "<Figure size 432x288 with 1 Axes>"
      ]
     },
     "metadata": {
      "needs_background": "light"
     },
     "output_type": "display_data"
    }
   ],
   "source": [
    "plt.figure()\n",
    "plt.plot(ws)\n",
    "\n",
    "plt.figure()\n",
    "plt.plot(hs)"
   ]
  },
  {
   "cell_type": "markdown",
   "metadata": {},
   "source": [
    "### Results for DMRG"
   ]
  },
  {
   "cell_type": "code",
   "execution_count": 22,
   "metadata": {},
   "outputs": [
    {
     "name": "stdout",
     "output_type": "stream",
     "text": [
      "The lists are identical\n",
      "The lists are identical\n",
      "The lists are identical\n",
      "The lists are identical\n",
      "The lists are identical\n"
     ]
    }
   ],
   "source": [
    "for i in range(0,len(sweep_psi)):\n",
    "    if sweep_psi[i] == sweep_psi[i]:\n",
    "        print (\"The lists are identical\")\n",
    "    else :\n",
    "        print (\"The lists are not identical\")"
   ]
  },
  {
   "cell_type": "code",
   "execution_count": 23,
   "metadata": {},
   "outputs": [],
   "source": [
    "L_list = np.linspace(0,L,L)\n",
    "q = np.pi/(L+1)\n",
    "true_psi = np.sqrt(2/L)*np.sin(q*L_list)\n",
    "psi_finite = sweep_t"
   ]
  },
  {
   "cell_type": "code",
   "execution_count": 24,
   "metadata": {},
   "outputs": [
    {
     "data": {
      "text/plain": [
       "<matplotlib.legend.Legend at 0x7fe639a9f710>"
      ]
     },
     "execution_count": 24,
     "metadata": {},
     "output_type": "execute_result"
    },
    {
     "data": {
      "image/png": "[encoded data removed]",
      "text/plain": [
       "<Figure size 432x288 with 1 Axes>"
      ]
     },
     "metadata": {
      "needs_background": "light"
     },
     "output_type": "display_data"
    },
    {
     "data": {
      "image/png": "[encoded data removed]",
      "text/plain": [
       "<Figure size 720x576 with 1 Axes>"
      ]
     },
     "metadata": {
      "needs_background": "light"
     },
     "output_type": "display_data"
    }
   ],
   "source": [
    "plt.figure()\n",
    "plt.title('Energy Convergence')\n",
    "plt.plot(sweep_energies)\n",
    "\n",
    "plt.figure(figsize=(10,8))\n",
    "plt.title('Wave Function')\n",
    "\n",
    "#plt.plot(true_psi, label = 'true wavefunction')\n",
    "\n",
    "plt.plot(psi_infinite, label = 'finite wavefunction')\n",
    "\n",
    "for i in range(0,N_sweeps):\n",
    "    plt.plot(sweep_psi[i], marker='.')\n",
    "    \n",
    "plt.legend()\n"
   ]
  },
  {
   "cell_type": "code",
   "execution_count": 25,
   "metadata": {
    "scrolled": false
   },
   "outputs": [
    {
     "data": {
      "text/plain": [
       "<matplotlib.legend.Legend at 0x7fe63b897c10>"
      ]
     },
     "execution_count": 25,
     "metadata": {},
     "output_type": "execute_result"
    },
    {
     "data": {
      "image/png": "[encoded data removed]",
      "text/plain": [
       "<Figure size 432x288 with 1 Axes>"
      ]
     },
     "metadata": {
      "needs_background": "light"
     },
     "output_type": "display_data"
    }
   ],
   "source": [
    "len(sweep_t)\n",
    "plt.figure()\n",
    "plt.hlines(sweep_energies[-1],0,50, color='b', label='sweep E', linestyles='dashdot')\n",
    "plt.hlines(Exact_E,0,50, label='True E', color='orange')\n",
    "plt.plot(E_list, label='Warmup', marker='x')\n",
    "plt.ylim(-0.001,0.01)\n",
    "plt.legend()"
   ]
  },
  {
   "cell_type": "code",
   "execution_count": 26,
   "metadata": {},
   "outputs": [
    {
     "name": "stdout",
     "output_type": "stream",
     "text": [
      "0.000967435\n"
     ]
    },
    {
     "data": {
      "text/plain": [
       "[0.001837126615464871,\n",
       " 0.0011130864972712653,\n",
       " 0.0009554803875245442,\n",
       " 0.0009524798405834971,\n",
       " 0.0009524788690060853]"
      ]
     },
     "execution_count": 26,
     "metadata": {},
     "output_type": "execute_result"
    }
   ],
   "source": [
    "print(Exact_E)\n",
    "sweep_energies"
   ]
  },
  {
   "cell_type": "code",
   "execution_count": 27,
   "metadata": {},
   "outputs": [
    {
     "data": {
      "text/plain": [
       "[-0.85065080835204,\n",
       " -0.792297050994225,\n",
       " -0.7289478785906617,\n",
       " -0.6749836088806321,\n",
       " -0.630116693022068,\n",
       " -0.5925023488862655,\n",
       " -0.5605181245926678,\n",
       " -0.5329323712506497,\n",
       " -0.5088321907405217,\n",
       " -0.48753722672183936,\n",
       " -0.4685333475202307,\n",
       " -0.4514258221563786,\n",
       " -0.43590681206495113,\n",
       " -0.4217326968347318,\n",
       " -0.40870806383548586,\n",
       " -0.39667423435306626,\n",
       " -0.38550091399915354,\n",
       " -0.37508002550022695,\n",
       " -0.365321088706313,\n",
       " -0.3561477136698376,\n",
       " -0.34749490576527065,\n",
       " -0.3393069711284598,\n",
       " -0.3315358714409007,\n",
       " -0.3241399189782796,\n",
       " -0.31708273212720195,\n",
       " -0.3103323923108615,\n",
       " -0.30386075813033486,\n",
       " -0.29764290331024523,\n",
       " -0.2916566529440829,\n",
       " -0.2858821983929015,\n",
       " -0.2803017755745635,\n",
       " -0.2748993946909345,\n",
       " -0.26966061196201513,\n",
       " -0.2645723358726723,\n",
       " -0.2596226619366328,\n",
       " -0.25480073115120067,\n",
       " -0.25009660823384794,\n",
       " -0.2455011764571201,\n",
       " -0.24100604647512405,\n",
       " -0.23660347699637316,\n",
       " -0.23228630552909796,\n",
       " -0.2280478877255411,\n",
       " -0.22388204409604687,\n",
       " -0.21978301306340828,\n",
       " -0.2157454094918803,\n",
       " -0.21176418796053187,\n",
       " -0.20783461016268293,\n",
       " -0.2039522159064636,\n",
       " -0.2001127972695006,\n",
       " -0.19631233524036382,\n",
       " -0.2001127545577358,\n",
       " -0.20395217055928555,\n",
       " -0.20783456661028837,\n",
       " -0.21176414615400652,\n",
       " -0.21574536938364955,\n",
       " -0.2197829746071991,\n",
       " -0.2238820072468479,\n",
       " -0.22804785243956222,\n",
       " -0.23228627176373023,\n",
       " -0.23660344471014627,\n",
       " -0.24100601562766477,\n",
       " -0.24550114700911052,\n",
       " -0.25009658014698327,\n",
       " -0.25480070438814717,\n",
       " -0.25962263646098416,\n",
       " -0.2645723116489088,\n",
       " -0.2696605889554592,\n",
       " -0.2748993728677104,\n",
       " -0.2803017549015515,\n",
       " -0.285882178837697,\n",
       " -0.29165663447495266,\n",
       " -0.29764288589608273,\n",
       " -0.303860741740616,\n",
       " -0.3103323769155995,\n",
       " -0.3170827176969024,\n",
       " -0.3241399054838895,\n",
       " -0.33153585885376324,\n",
       " -0.33930695942026196,\n",
       " -0.34749489490798874,\n",
       " -0.35614770363568243,\n",
       " -0.3653210794676702,\n",
       " -0.37508001702959193,\n",
       " -0.38550090626906264,\n",
       " -0.39667422733602087,\n",
       " -0.40870805750386685,\n",
       " -0.42173269116070367,\n",
       " -0.43590680702035345,\n",
       " -0.45142581771259954,\n",
       " -0.4685333436480551,\n",
       " -0.48753722339127253,\n",
       " -0.5088321879205691,\n",
       " -0.5329323689090402,\n",
       " -0.5605181226955104,\n",
       " -0.5925023473976191,\n",
       " -0.6301166919034362,\n",
       " -0.6749836080905618,\n",
       " -0.7289478780854021,\n",
       " -0.7922970507348038,\n",
       " -0.85065080835204]"
      ]
     },
     "execution_count": 27,
     "metadata": {},
     "output_type": "execute_result"
    }
   ],
   "source": [
    "sweep_psi[3]"
   ]
  },
  {
   "cell_type": "code",
   "execution_count": null,
   "metadata": {},
   "outputs": [],
   "source": []
  }
 ],
 "metadata": {
  "kernelspec": {
   "display_name": "Python 3",
   "language": "python",
   "name": "python3"
  },
  "language_info": {
   "codemirror_mode": {
    "name": "ipython",
    "version": 3
   },
   "file_extension": ".py",
   "mimetype": "text/x-python",
   "name": "python",
   "nbconvert_exporter": "python",
   "pygments_lexer": "ipython3",
   "version": "3.7.6"
  }
 },
 "nbformat": 4,
 "nbformat_minor": 4
}
