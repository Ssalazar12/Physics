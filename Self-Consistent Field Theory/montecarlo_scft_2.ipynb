{
 "cells": [
  {
   "cell_type": "code",
   "execution_count": 56,
   "metadata": {},
   "outputs": [],
   "source": [
    "import numpy as np\n",
    "from scipy.interpolate import interp1d \n",
    "import seaborn as sns\n",
    "import time\n",
    "import pandas as pd\n",
    "import pickle\n",
    "\n",
    "# load data calcualted from the previous part\n",
    "wa = np.loadtxt('w_a.csv', delimiter=',')\n",
    "wb = np.loadtxt('w_b.csv', delimiter=',')\n",
    "\n",
    "# set up a seed to repeat experiments\n",
    "np.random.RandomState(seed=111)\n",
    "\n",
    "# ----------------------\n",
    "# Global Constants------\n",
    "# ----------------------\n",
    "Re = 1.0\n",
    "# number of points in space \n",
    "Nx = 256\n",
    "# number of beads in the polymer contour\n",
    "N = 64\n",
    "# polymer contour\n",
    "S = np.linspace(0,1,N)\n",
    "# cutting point of the polymer diving A and B\n",
    "F = 1/2\n",
    "L = 2*Re\n",
    "X = np.linspace(0,Nx, Nx)\n",
    "X = X*L/Nx\n",
    "\n",
    "# ---------------------------------------\n",
    "# DEFINITION OF FUNCTIONS\n",
    "# ----------------------------------------\n",
    "\n",
    "# choose and move one bead of the chain\n",
    "def move_bead(current_chain,d_interval):\n",
    "    # selects a bead at random and moves it\n",
    "    # args-> current_chain: array, contains the positions of the current chain\n",
    "    #        d_interval: displacement interval\n",
    "    # returns-> proposed_move: array, chain with one displaced bead\n",
    "    #           bead_index: index indicating which bead was moved\n",
    "    Delta = np.random.uniform(low=-d_interval,high=d_interval)\n",
    "\n",
    "    # chose the bead\n",
    "    proposed_move = current_chain.copy()\n",
    "    bead_index = np.random.randint(0,N)\n",
    "    proposed_move[bead_index,:] = proposed_move[bead_index,:] + Delta\n",
    "    \n",
    "    return proposed_move, bead_index\n",
    "\n",
    "\n",
    "def metropolis_step(d_u, prev_chain, proposed_chain):\n",
    "    # decides whether to accept the newt move or not\n",
    "    # args --> d_u: scalar, change in energy between prev_chain and proposed_chain\n",
    "    #          prev_chain: proposed_chain: arrays. Previous and proposed chain respecively\n",
    "    # returns: next_chain: the chain for the next step, it can be prev_chain (if rejected) or proposed_chain (if accepted)\n",
    "    #          accepted: integer. Indicates if the move was accepted (=1) or rejected (=0)\n",
    "    next_chain = prev_chain.copy()\n",
    "    accepted = 0\n",
    "    \n",
    "    # if negative change we accept    \n",
    "    if(d_u <= 0):\n",
    "        next_chain = proposed_chain.copy()\n",
    "        accepted = 1\n",
    "\n",
    "    else:\n",
    "        # draw a random number\n",
    "        coin_toss = np.random.uniform(0,1)\n",
    "        dist_delta = np.exp(-d_u)\n",
    "\n",
    "        if(coin_toss<dist_delta):\n",
    "            next_chain = proposed_chain.copy()\n",
    "            accepted = 1\n",
    "            \n",
    "    return next_chain, accepted\n"
   ]
  },
  {
   "cell_type": "code",
   "execution_count": 59,
   "metadata": {},
   "outputs": [],
   "source": [
    "def calculate_energy_faster(bead_chain, no_fields=False):\n",
    "    # calculates the energy for a given chain\n",
    "    # args -> bead_chain: array, represents the chain to calculate the energy, includes position for each bead\n",
    "    #        no_fields: boolean, indicates whether we set the fields to zero or not\n",
    "    # returns- > U: scalar, the enery of bead_chain\n",
    "    \n",
    "    s1_mag = bead_chain[1:] - bead_chain[:-1]    \n",
    "    s1 =np.sum(s1_mag*s1_mag, axis=1)\n",
    "    \n",
    "     # term dependent on wa remember only the x value is important\n",
    "    swa = wa_int(bead_chain[:,0])\n",
    "    # term dependent on wb\n",
    "    swb = wb_int(bead_chain[:,0])\n",
    "        \n",
    "    mask_wa = np.zeros(len(swa))\n",
    "    mask_wb = np.zeros(len(swb))\n",
    "    \n",
    "    if no_fields == False:\n",
    "        # mask wa and wb such that they  act only on their respective sectors of the chain\n",
    "        mask_wa[:int(F*N)] = 1\n",
    "        mask_wb[int(F*N):] = 1\n",
    "        \n",
    "    # evaluate the sums as dot products\n",
    "    U = 3*(N-1)/(2*Re**2) * np.sum(s1) + (1/N)*np.dot(mask_wa,swa) + (1/N)*np.dot(mask_wb,swb)\n",
    "    \n",
    "    return U, swa, swb, s1\n",
    "\n",
    "def create_initial_chain():\n",
    "    dims = 3\n",
    "    step_n = N\n",
    "    delta_x = (X[1]-X[0])*2\n",
    "    step_set = [-delta_x, 0, delta_x]\n",
    "    origin = np.zeros((1,dims))\n",
    "    # Simulate steps in 3D\n",
    "    step_shape = (step_n,dims)\n",
    "    steps = np.random.choice(a=step_set, size=step_shape)\n",
    "    path = np.concatenate([origin, steps]).cumsum(0)\n",
    "\n",
    "    path[path<0]=0 + np.random.rand()*delta_x\n",
    "    path[path>L]=L - np.random.rand()*delta_x\n",
    "    \n",
    "    return path\n",
    "\n"
   ]
  },
  {
   "cell_type": "code",
   "execution_count": 68,
   "metadata": {},
   "outputs": [
    {
     "name": "stdout",
     "output_type": "stream",
     "text": [
      "Starting\n",
      "0.10445690155029297 seconds since the loop started  and  1 iterations\n",
      "5.1253650188446045 seconds since the loop started  and  101 iterations\n",
      "10.764855146408081 seconds since the loop started  and  201 iterations\n",
      "16.205147981643677 seconds since the loop started  and  301 iterations\n",
      "21.2725830078125 seconds since the loop started  and  401 iterations\n",
      "26.58873701095581 seconds since the loop started  and  501 iterations\n",
      "32.19449496269226 seconds since the loop started  and  601 iterations\n",
      "37.64924192428589 seconds since the loop started  and  701 iterations\n",
      "42.965659856796265 seconds since the loop started  and  801 iterations\n",
      "47.74017000198364 seconds since the loop started  and  901 iterations\n",
      "52.9950909614563 seconds since the loop started  and  1001 iterations\n",
      "58.644712924957275 seconds since the loop started  and  1101 iterations\n",
      "64.15284609794617 seconds since the loop started  and  1201 iterations\n",
      "70.77905678749084 seconds since the loop started  and  1301 iterations\n",
      "75.85216784477234 seconds since the loop started  and  1401 iterations\n",
      "81.96818685531616 seconds since the loop started  and  1501 iterations\n",
      "87.7715380191803 seconds since the loop started  and  1601 iterations\n",
      "93.71710014343262 seconds since the loop started  and  1701 iterations\n",
      "98.7732207775116 seconds since the loop started  and  1801 iterations\n",
      "104.91695094108582 seconds since the loop started  and  1901 iterations\n",
      "-------------------------------------------\n",
      "next polymer\n",
      "-------------------------------------------\n",
      "110.7358169555664\n"
     ]
    }
   ],
   "source": [
    "# -----------------------------------------------------------------------------------------\n",
    "# MAIN\n",
    "# -----------------------------------------------------------------------------------------\n",
    "\n",
    "d = (X[1]-X[0])*10\n",
    "\n",
    "# interpolation of the fields\n",
    "wa_int = interp1d(X,wa, kind='linear')\n",
    "wb_int = interp1d(X,wb, kind='linear')\n",
    "\n",
    "# number of polymers \n",
    "N_polymers = 1\n",
    "# number of montecalo steps\n",
    "N_montecarlo = 2000\n",
    "turn_of_fields = True\n",
    "\n",
    "u_list = []\n",
    "# positions\n",
    "montecarlo_chains = []\n",
    "# center of mass data\n",
    "cm_list = []\n",
    "# junction points\n",
    "jp_list = []\n",
    "\n",
    "for k in range(0, N_polymers):\n",
    "\n",
    "    #initial_chain = np.random.rand(N,3) * L\n",
    "    initial_chain = create_initial_chain()\n",
    "    current_chain = initial_chain.copy()\n",
    "\n",
    "    # meassure time taken\n",
    "    start = time.time()\n",
    "    print(\"Starting\")\n",
    "\n",
    "    for j in range(N_montecarlo):\n",
    "        acceptance_list = np.zeros(Nx)\n",
    "        current_u = 0\n",
    "        # one montecarlo step\n",
    "        for i in range(0,Nx):\n",
    "            next_chain, bead_i = move_bead(current_chain,d)\n",
    "            # if the displacement takes the bead out of the box then we reject the move immediately\n",
    "            if all((y <= L) and (y>=0) for y in next_chain[bead_i]):\n",
    "                # calculate initial and final energies\n",
    "                u0,sumwa0, sumwb0, sum0 = calculate_energy_faster(current_chain,no_fields=turn_of_fields)\n",
    "                uf,sumwaf, sumwbf, sumf = calculate_energy_faster(next_chain,no_fields=turn_of_fields)\n",
    "\n",
    "                delta_u = uf-u0\n",
    "\n",
    "                # metropolis step \n",
    "                current_chain, acceptance_list[i] = metropolis_step(delta_u, current_chain, next_chain)\n",
    "                \n",
    "                if acceptance_list[i] == 0:\n",
    "                    delta_u = 0\n",
    "                    current_u = u0\n",
    "                    \n",
    "                else:\n",
    "                    current_u = uf\n",
    "                    \n",
    "            # reject the move if the bead goes out of the box\n",
    "            else:\n",
    "                delta_u = 0\n",
    "                current_u = u0\n",
    "                \n",
    "        u_list.append(current_u)\n",
    "\n",
    "        # calculate the center of mass data for each monte carlo step\n",
    "        current_cm = (1/N)*np.sum(current_chain,axis=0)\n",
    "        cm_list.append(current_cm)\n",
    "\n",
    "        current_jp = (1/2)*( current_chain[int(N*F-1),:] + current_chain[int(N*F),:] )\n",
    "        jp_list.append(current_jp)\n",
    "\n",
    "        # print the time to look at something while it iterates\n",
    "        if(j%100==0):\n",
    "            now = time.time()\n",
    "            print(\"{0} seconds since the loop started\".format(now - start), \" and \", j+1, \"iterations\")\n",
    "                \n",
    "    # save current chain positions\n",
    "    montecarlo_chains.append(current_chain)\n",
    "\n",
    "    print('-------------------------------------------')\n",
    "    print('next polymer')\n",
    "    print('-------------------------------------------')\n",
    "                \n",
    "\n",
    "end = time.time()\n",
    "print(end - start)\n",
    "\n"
   ]
  },
  {
   "cell_type": "code",
   "execution_count": 69,
   "metadata": {},
   "outputs": [],
   "source": [
    "import matplotlib.pyplot as plt"
   ]
  },
  {
   "cell_type": "code",
   "execution_count": 70,
   "metadata": {},
   "outputs": [
    {
     "data": {
      "text/plain": [
       "[<matplotlib.lines.Line2D at 0x7fbcbb1796d0>]"
      ]
     },
     "execution_count": 70,
     "metadata": {},
     "output_type": "execute_result"
    },
    {
     "data": {
      "image/png": "[encoded data removed]",
      "text/plain": [
       "<Figure size 432x288 with 1 Axes>"
      ]
     },
     "metadata": {
      "needs_background": "light"
     },
     "output_type": "display_data"
    }
   ],
   "source": [
    "plt.plot(u_list)"
   ]
  },
  {
   "cell_type": "code",
   "execution_count": 71,
   "metadata": {},
   "outputs": [
    {
     "data": {
      "text/plain": [
       "(9000.0, 9100.0)"
      ]
     },
     "execution_count": 71,
     "metadata": {},
     "output_type": "execute_result"
    },
    {
     "data": {
      "image/png": "[encoded data removed]",
      "text/plain": [
       "<Figure size 432x288 with 1 Axes>"
      ]
     },
     "metadata": {
      "needs_background": "light"
     },
     "output_type": "display_data"
    }
   ],
   "source": [
    "plt.plot(u_list)\n",
    "plt.ylim(9000,9100)"
   ]
  },
  {
   "cell_type": "code",
   "execution_count": null,
   "metadata": {},
   "outputs": [],
   "source": []
  }
 ],
 "metadata": {
  "kernelspec": {
   "display_name": "Python 3",
   "language": "python",
   "name": "python3"
  },
  "language_info": {
   "codemirror_mode": {
    "name": "ipython",
    "version": 3
   },
   "file_extension": ".py",
   "mimetype": "text/x-python",
   "name": "python",
   "nbconvert_exporter": "python",
   "pygments_lexer": "ipython3",
   "version": "3.7.6"
  }
 },
 "nbformat": 4,
 "nbformat_minor": 4
}
