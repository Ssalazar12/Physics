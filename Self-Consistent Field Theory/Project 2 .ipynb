{
 "cells": [
  {
   "cell_type": "code",
   "execution_count": 1,
   "metadata": {},
   "outputs": [],
   "source": [
    "from IPython.core.display import HTML"
   ]
  },
  {
   "cell_type": "code",
   "execution_count": 2,
   "metadata": {},
   "outputs": [],
   "source": [
    "%matplotlib inline\n",
    "import numpy as np\n",
    "import matplotlib.pyplot as plt\n",
    "import matplotlib\n",
    "from matplotlib import animation\n",
    "from scipy.integrate import odeint\n",
    "from IPython.display import HTML\n",
    "\n",
    "from scipy.fft import fft, ifft\n"
   ]
  },
  {
   "cell_type": "markdown",
   "metadata": {},
   "source": [
    "# Pseudospectral method\n",
    "\n",
    "based on the code in:´\n",
    "\n",
    "https://www.youtube.com/watch?v=rsdqvrldgHM&list=WL&index=181"
   ]
  },
  {
   "cell_type": "code",
   "execution_count": 5,
   "metadata": {},
   "outputs": [],
   "source": [
    "def rhsf(u,t,v,L):\n",
    "    N = len(u)\n",
    "    n = np.arange(N); n[int(N/2)+1:]-= N\n",
    "    return -u*ifft(2*np.pi*1j*n/L*fft(u)).real - v*ifft((2*np.pi*n/L)**2*fft(u)).real\n",
    "\n",
    "def modified_diffusion(q,t,w_x,a):\n",
    "    N = len(q)\n",
    "    n = np.arange(N); n[int(N/2)+1:]-= N\n",
    "    return - w_x*q + a *ifft((2*np.pi*n/L)**2*fft()).real\n",
    "\n",
    "def spectral(nx, system_length, time_span, diff_eq, args_eq):\n",
    "    \n",
    "    #---------- solution domain, initial condition\n",
    "    \n",
    "    dx = system_length/nx     # not L/(nx-1)\n",
    "    # initial condition\n",
    "    x = np.linspace(0.0, system_length-dx, nx)\n",
    "    \n",
    "    \n",
    "    u0 = np.cos(2*np.pi*x/system_length) + 2\n",
    "    \n",
    "    #---------- solve the problem\n",
    "    \n",
    "    t = np.linspace(0,time_span,11)\n",
    "    # (v,system_length)\n",
    "    u = odeint(rhsf, u0, t, args=args_eq)\n",
    "    \n",
    "    return x, u, u0\n",
    "\n",
    "x,u,u0 = spectral(32, 10, 10, rhsf, (0.1,10))"
   ]
  },
  {
   "cell_type": "code",
   "execution_count": 6,
   "metadata": {},
   "outputs": [
    {
     "data": {
      "image/png": "[encoded data removed]",
      "text/plain": [
       "<Figure size 432x288 with 1 Axes>"
      ]
     },
     "metadata": {
      "needs_background": "light"
     },
     "output_type": "display_data"
    }
   ],
   "source": [
    "\n",
    "fig,ax=plt.subplots()\n",
    "ax.plot(x,u0, ':', color='blue', lw=1,label='intial')\n",
    "ax.plot(x,u[-1,:], 'o', color='gray', lw=1, label='spectral')\n",
    "    \n",
    "plt.rc('font', size=14)\n",
    "plt.gca().set_xlim([0,10])\n",
    "plt.xlabel('x')\n",
    "plt.ylabel(r'u');\n",
    "plt.legend();\n"
   ]
  },
  {
   "cell_type": "code",
   "execution_count": null,
   "metadata": {},
   "outputs": [],
   "source": []
  },
  {
   "cell_type": "code",
   "execution_count": null,
   "metadata": {},
   "outputs": [],
   "source": []
  }
 ],
 "metadata": {
  "kernelspec": {
   "display_name": "Python 3",
   "language": "python",
   "name": "python3"
  },
  "language_info": {
   "codemirror_mode": {
    "name": "ipython",
    "version": 3
   },
   "file_extension": ".py",
   "mimetype": "text/x-python",
   "name": "python",
   "nbconvert_exporter": "python",
   "pygments_lexer": "ipython3",
   "version": "3.7.6"
  }
 },
 "nbformat": 4,
 "nbformat_minor": 4
}
